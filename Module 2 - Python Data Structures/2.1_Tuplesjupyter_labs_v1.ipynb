{
  "cells": [
    {
      "metadata": {},
      "cell_type": "markdown",
      "source": "<div class=\"alert alert-block alert-info\" style=\"margin-top: 20px\">\n <a href=\"http://cocl.us/NotebooksPython101\"><img src = \"https://ibm.box.com/shared/static/yfe6h4az47ktg2mm9h05wby2n7e8kei3.png\" width = 750, align = \"center\"></a>\n\n\n"
    },
    {
      "metadata": {},
      "cell_type": "markdown",
      "source": " <a href=\"https://www.bigdatauniversity.com\"><img src = \"https://ibm.box.com/shared/static/ugcqz6ohbvff804xp84y4kqnvvk3bq1g.png\" width = 300, align = \"center\"></a>\n\n\n\n\n<h1 align=center><font size = 5>TUPLES IN PYTHON</font></h1>"
    },
    {
      "metadata": {},
      "cell_type": "markdown",
      "source": "<a id=\"ref0\"></a>\n<center><h2>About the Dataset</h2></center>"
    },
    {
      "metadata": {},
      "cell_type": "markdown",
      "source": "\n## Table of Contents\n\n\n<div class=\"alert alert-block alert-info\" style=\"margin-top: 20px\">\n<li><a href=\"#ref0\">About the Dataset</a></li>\n<li><a href=\"#ref1\">Tuples</a></li>\n<li><a href=\"#ref2\">Quiz on Tuples</a></li>\n\n<p></p>\nEstimated Time Needed: <strong>15 min</strong>\n</div>\n\n<hr>"
    },
    {
      "metadata": {},
      "cell_type": "markdown",
      "source": "Imagine you received album recommendations from your friends and compiled all of the recomendations into a table, with specific information about each album.\n\nThe table has one row for each movie and several columns:\n\n- **artist** - Name of the artist\n- **album** - Name of the album\n- **released_year** - Year the album was released\n- **length_min_sec** - Length of the album (hours,minutes,seconds)\n- **genre** - Genre of the album\n- **music_recording_sales_millions** - Music recording sales (millions in USD) on [SONG://DATABASE](http://www.song-database.com/)\n- **claimed_sales_millions** - Album's claimed sales (millions in USD) on [SONG://DATABASE](http://www.song-database.com/)\n- **date_released** - Date on which the album was released\n- **soundtrack** - Indicates if the album is the movie soundtrack (Y) or (N)\n- **rating_of_friends** - Indicates the rating from your friends from 1 to 10\n<br>\n<br>\n\nThe dataset can be seen below:\n\n<font size=\"1\">\n<table font-size:xx-small style=\"width:25%\">\n  <tr>\n    <th>Artist</th>\n    <th>Album</th> \n    <th>Released</th>\n    <th>Length</th>\n    <th>Genre</th> \n    <th>Music recording sales (millions)</th>\n    <th>Claimed sales (millions)</th>\n    <th>Released</th>\n    <th>Soundtrack</th>\n    <th>Rating (friends)</th>\n  </tr>\n  <tr>\n    <td>Michael Jackson</td>\n    <td>Thriller</td> \n    <td>1982</td>\n    <td>00:42:19</td>\n    <td>Pop, rock, R&B</td>\n    <td>46</td>\n    <td>65</td>\n    <td>30-Nov-82</td>\n    <td></td>\n    <td>10.0</td>\n  </tr>\n  <tr>\n    <td>AC/DC</td>\n    <td>Back in Black</td> \n    <td>1980</td>\n    <td>00:42:11</td>\n    <td>Hard rock</td>\n    <td>26.1</td>\n    <td>50</td>\n    <td>25-Jul-80</td>\n    <td></td>\n    <td>8.5</td>\n  </tr>\n    <tr>\n    <td>Pink Floyd</td>\n    <td>The Dark Side of the Moon</td> \n    <td>1973</td>\n    <td>00:42:49</td>\n    <td>Progressive rock</td>\n    <td>24.2</td>\n    <td>45</td>\n    <td>01-Mar-73</td>\n    <td></td>\n    <td>9.5</td>\n  </tr>\n    <tr>\n    <td>Whitney Houston</td>\n    <td>The Bodyguard</td> \n    <td>1992</td>\n    <td>00:57:44</td>\n    <td>Soundtrack/R&B, soul, pop</td>\n    <td>26.1</td>\n    <td>50</td>\n    <td>25-Jul-80</td>\n    <td>Y</td>\n    <td>7.0</td>\n  </tr>\n    <tr>\n    <td>Meat Loaf</td>\n    <td>Bat Out of Hell</td> \n    <td>1977</td>\n    <td>00:46:33</td>\n    <td>Hard rock, progressive rock</td>\n    <td>20.6</td>\n    <td>43</td>\n    <td>21-Oct-77</td>\n    <td></td>\n    <td>7.0</td>\n  </tr>\n    <tr>\n    <td>Eagles</td>\n    <td>Their Greatest Hits (1971-1975)</td> \n    <td>1976</td>\n    <td>00:43:08</td>\n    <td>Rock, soft rock, folk rock</td>\n    <td>32.2</td>\n    <td>42</td>\n    <td>17-Feb-76</td>\n    <td></td>\n    <td>9.5</td>\n  </tr>\n    <tr>\n    <td>Bee Gees</td>\n    <td>Saturday Night Fever</td> \n    <td>1977</td>\n    <td>1:15:54</td>\n    <td>Disco</td>\n    <td>20.6</td>\n    <td>40</td>\n    <td>15-Nov-77</td>\n    <td>Y</td>\n    <td>9.0</td>\n  </tr>\n    <tr>\n    <td>Fleetwood Mac</td>\n    <td>Rumours</td> \n    <td>1977</td>\n    <td>00:40:01</td>\n    <td>Soft rock</td>\n    <td>27.9</td>\n    <td>40</td>\n    <td>04-Feb-77</td>\n    <td></td>\n    <td>9.5</td>\n  </tr>\n</table></font>"
    },
    {
      "metadata": {},
      "cell_type": "markdown",
      "source": "<hr>"
    },
    {
      "metadata": {},
      "cell_type": "markdown",
      "source": "<a id=\"ref1\"></a>\n<center><h2>Tuples</h2></center>\n\nIn Python, there are different data types: string, integer and float. These data types can all be contained in a tuple as follows:\n\n"
    },
    {
      "metadata": {},
      "cell_type": "markdown",
      "source": "<img src = \"https://ibm.box.com/shared/static/t2jw5ia78ulp8twr71j6q7055hykz10c.png\" width = 750, align = \"center\"></a>\n\n"
    },
    {
      "metadata": {
        "trusted": true
      },
      "cell_type": "code",
      "source": "tuple1=(\"disco\",10,1.2 )\ntuple1",
      "execution_count": 1,
      "outputs": [
        {
          "output_type": "execute_result",
          "execution_count": 1,
          "data": {
            "text/plain": "('disco', 10, 1.2)"
          },
          "metadata": {}
        }
      ]
    },
    {
      "metadata": {},
      "cell_type": "markdown",
      "source": "The type of variable is a **tuple**. "
    },
    {
      "metadata": {
        "trusted": true
      },
      "cell_type": "code",
      "source": " type(tuple1)",
      "execution_count": 2,
      "outputs": [
        {
          "output_type": "execute_result",
          "execution_count": 2,
          "data": {
            "text/plain": "tuple"
          },
          "metadata": {}
        }
      ]
    },
    {
      "metadata": {},
      "cell_type": "markdown",
      "source": " Each element of a tuple can be accessed via an index. The following table represents the relationship between the index and the items in the tuple. Each element can be obtained by the name of the tuple followed by a square bracket with the index number:"
    },
    {
      "metadata": {},
      "cell_type": "markdown",
      "source": "<img src = \"https://ibm.box.com/shared/static/83kpang0opwen5e5gbwck6ktqw7btwoe.gif\" width = 750, align = \"center\"></a>\n\n"
    },
    {
      "metadata": {},
      "cell_type": "markdown",
      "source": "We can print out each value in the tuple:"
    },
    {
      "metadata": {
        "trusted": true
      },
      "cell_type": "code",
      "source": "print( tuple1[0])\nprint( tuple1[1])\nprint( tuple1[2])",
      "execution_count": 3,
      "outputs": [
        {
          "output_type": "stream",
          "text": "disco\n10\n1.2\n",
          "name": "stdout"
        }
      ]
    },
    {
      "metadata": {},
      "cell_type": "markdown",
      "source": "We can print out the **type** of each value in the tuple:\n"
    },
    {
      "metadata": {
        "trusted": true
      },
      "cell_type": "code",
      "source": "print( type(tuple1[0]))\nprint( type(tuple1[1]))\nprint( type(tuple1[2]))",
      "execution_count": 4,
      "outputs": [
        {
          "output_type": "stream",
          "text": "<class 'str'>\n<class 'int'>\n<class 'float'>\n",
          "name": "stdout"
        }
      ]
    },
    {
      "metadata": {},
      "cell_type": "markdown",
      "source": "We can also use negative indexing. We use the same table above with corresponding negative values:"
    },
    {
      "metadata": {},
      "cell_type": "markdown",
      "source": " <img src = \"https://ibm.box.com/shared/static/uwlfzo367bekwg0p5s5odxlz7vhpojyj.png\" width = 750, align = \"center\"></a>\n"
    },
    {
      "metadata": {},
      "cell_type": "markdown",
      "source": "We can obtain the last element as follows (this time we will not use the print statement to display the values):"
    },
    {
      "metadata": {
        "trusted": true
      },
      "cell_type": "code",
      "source": "tuple1[-1]",
      "execution_count": 5,
      "outputs": [
        {
          "output_type": "execute_result",
          "execution_count": 5,
          "data": {
            "text/plain": "1.2"
          },
          "metadata": {}
        }
      ]
    },
    {
      "metadata": {},
      "cell_type": "markdown",
      "source": "We can display the next two elements as follows:"
    },
    {
      "metadata": {
        "trusted": true
      },
      "cell_type": "code",
      "source": "tuple1[-2]",
      "execution_count": 6,
      "outputs": [
        {
          "output_type": "execute_result",
          "execution_count": 6,
          "data": {
            "text/plain": "10"
          },
          "metadata": {}
        }
      ]
    },
    {
      "metadata": {
        "trusted": true
      },
      "cell_type": "code",
      "source": "tuple1[-3]",
      "execution_count": 7,
      "outputs": [
        {
          "output_type": "execute_result",
          "execution_count": 7,
          "data": {
            "text/plain": "'disco'"
          },
          "metadata": {}
        }
      ]
    },
    {
      "metadata": {},
      "cell_type": "markdown",
      "source": "We can concatenate or combine tuples by using the **+** sign:"
    },
    {
      "metadata": {
        "trusted": true
      },
      "cell_type": "code",
      "source": "tuple2=tuple1+(\"hard rock\", 10)\ntuple2",
      "execution_count": 8,
      "outputs": [
        {
          "output_type": "execute_result",
          "execution_count": 8,
          "data": {
            "text/plain": "('disco', 10, 1.2, 'hard rock', 10)"
          },
          "metadata": {}
        }
      ]
    },
    {
      "metadata": {},
      "cell_type": "markdown",
      "source": "We can slice tuples obtaining multiple values as demonstrated by the figure below:"
    },
    {
      "metadata": {},
      "cell_type": "markdown",
      "source": "<img src = \"https://ibm.box.com/shared/static/s9nofy728bcnsgnx3vh159bu16w7frnc.gif\" width = 750, align = \"center\"></a>\n"
    },
    {
      "metadata": {},
      "cell_type": "markdown",
      "source": "We can slice tuples, obtaining new tuples with the corresponding elements: "
    },
    {
      "metadata": {
        "trusted": true
      },
      "cell_type": "code",
      "source": "tuple2[0:3]",
      "execution_count": 9,
      "outputs": [
        {
          "output_type": "execute_result",
          "execution_count": 9,
          "data": {
            "text/plain": "('disco', 10, 1.2)"
          },
          "metadata": {}
        }
      ]
    },
    {
      "metadata": {},
      "cell_type": "markdown",
      "source": "We can obtain the last two elements of the tuple:"
    },
    {
      "metadata": {
        "trusted": true
      },
      "cell_type": "code",
      "source": "tuple2[3:5]",
      "execution_count": 10,
      "outputs": [
        {
          "output_type": "execute_result",
          "execution_count": 10,
          "data": {
            "text/plain": "('hard rock', 10)"
          },
          "metadata": {}
        }
      ]
    },
    {
      "metadata": {},
      "cell_type": "markdown",
      "source": "We can obtain the length of a tuple using the length command: "
    },
    {
      "metadata": {
        "trusted": true
      },
      "cell_type": "code",
      "source": "len(tuple2)",
      "execution_count": 11,
      "outputs": [
        {
          "output_type": "execute_result",
          "execution_count": 11,
          "data": {
            "text/plain": "5"
          },
          "metadata": {}
        }
      ]
    },
    {
      "metadata": {},
      "cell_type": "markdown",
      "source": "This figure shows the number of elements:"
    },
    {
      "metadata": {},
      "cell_type": "markdown",
      "source": "\n<img src = \"https://ibm.box.com/shared/static/apxe8l3w42f597yjhizg305merlm4ijf.png\" width = 750, align = \"center\"></a>\n"
    },
    {
      "metadata": {},
      "cell_type": "markdown",
      "source": " Consider the following tuple:"
    },
    {
      "metadata": {
        "trusted": true
      },
      "cell_type": "code",
      "source": "Ratings  =(0,9,6,5,10,8,9,6,2)",
      "execution_count": 12,
      "outputs": []
    },
    {
      "metadata": {},
      "cell_type": "markdown",
      "source": " We can assign the tuple to a 2nd variable:\n "
    },
    {
      "metadata": {
        "trusted": true
      },
      "cell_type": "code",
      "source": "Ratings1=Ratings\nRatings",
      "execution_count": 13,
      "outputs": [
        {
          "output_type": "execute_result",
          "execution_count": 13,
          "data": {
            "text/plain": "(0, 9, 6, 5, 10, 8, 9, 6, 2)"
          },
          "metadata": {}
        }
      ]
    },
    {
      "metadata": {},
      "cell_type": "markdown",
      "source": "We can sort the values in a tuple and save it to a new tuple: "
    },
    {
      "metadata": {
        "trusted": true
      },
      "cell_type": "code",
      "source": "RatingsSorted=sorted(Ratings )\nRatingsSorted",
      "execution_count": 14,
      "outputs": [
        {
          "output_type": "execute_result",
          "execution_count": 14,
          "data": {
            "text/plain": "[0, 2, 5, 6, 6, 8, 9, 9, 10]"
          },
          "metadata": {}
        }
      ]
    },
    {
      "metadata": {},
      "cell_type": "markdown",
      "source": "A tuple can contain another tuple as well as other more complex data types.  This process is called 'nesting'. Consider the following tuple with several elements: "
    },
    {
      "metadata": {
        "trusted": true
      },
      "cell_type": "code",
      "source": "NestedT =(1, 2, (\"pop\", \"rock\") ,(3,4),(\"disco\",(1,2)))",
      "execution_count": 16,
      "outputs": []
    },
    {
      "metadata": {},
      "cell_type": "markdown",
      "source": "Each element in the tuple including other tuples can be obtained via an index as shown in the figure:"
    },
    {
      "metadata": {},
      "cell_type": "markdown",
      "source": "<img src = \"https://ibm.box.com/shared/static/estqe2bczv5weocc4ag4mx9dtqy952fp.png\" width = 750, align = \"center\"></a>\n"
    },
    {
      "metadata": {
        "trusted": true
      },
      "cell_type": "code",
      "source": "print(\"Element 0 of Tuple: \",   NestedT[0])\nprint(\"Element 1 of Tuple: \",  NestedT[1])\nprint(\"Element 2 of Tuple: \",  NestedT[2])\nprint(\"Element 3 of Tuple: \", NestedT[3])\nprint(\"Element 4 of Tuple: \", NestedT[4])",
      "execution_count": 17,
      "outputs": [
        {
          "output_type": "stream",
          "text": "Element 0 of Tuple:  1\nElement 1 of Tuple:  2\nElement 2 of Tuple:  ('pop', 'rock')\nElement 3 of Tuple:  (3, 4)\nElement 4 of Tuple:  ('disco', (1, 2))\n",
          "name": "stdout"
        }
      ]
    },
    {
      "metadata": {},
      "cell_type": "markdown",
      "source": "We can use the second index to access other tuples as demonstrated in the figure:"
    },
    {
      "metadata": {},
      "cell_type": "markdown",
      "source": "<img src = \"https://ibm.box.com/shared/static/j1orgjuasaaj3d0feymedrnoqv8trqyo.png\" width = 750, align = \"center\"></a>\n"
    },
    {
      "metadata": {},
      "cell_type": "markdown",
      "source": " We can access the nested tuples :"
    },
    {
      "metadata": {
        "trusted": true
      },
      "cell_type": "code",
      "source": "print(\"Element 2,0 of Tuple: \",   NestedT[2][0])\nprint(\"Element 2,1 of Tuple: \",   NestedT[2][1])\nprint(\"Element 3,0 of Tuple: \",   NestedT[3][0])\nprint(\"Element 3,1 of Tuple: \",   NestedT[3][1])\nprint(\"Element 4,0 of Tuple: \",   NestedT[4][0])\nprint(\"Element 4,1 of Tuple: \",   NestedT[4][1])",
      "execution_count": 18,
      "outputs": [
        {
          "output_type": "stream",
          "text": "Element 2,0 of Tuple:  pop\nElement 2,1 of Tuple:  rock\nElement 3,0 of Tuple:  3\nElement 3,1 of Tuple:  4\nElement 4,0 of Tuple:  disco\nElement 4,1 of Tuple:  (1, 2)\n",
          "name": "stdout"
        }
      ]
    },
    {
      "metadata": {},
      "cell_type": "markdown",
      "source": "We can access strings in the second nested tuples using a third index:"
    },
    {
      "metadata": {
        "trusted": true
      },
      "cell_type": "code",
      "source": "NestedT[2][1][0]",
      "execution_count": 19,
      "outputs": [
        {
          "output_type": "execute_result",
          "execution_count": 19,
          "data": {
            "text/plain": "'r'"
          },
          "metadata": {}
        }
      ]
    },
    {
      "metadata": {
        "trusted": true
      },
      "cell_type": "code",
      "source": " NestedT[2][1][1]",
      "execution_count": 20,
      "outputs": [
        {
          "output_type": "execute_result",
          "execution_count": 20,
          "data": {
            "text/plain": "'o'"
          },
          "metadata": {}
        }
      ]
    },
    {
      "metadata": {},
      "cell_type": "markdown",
      "source": " We can use a tree to visualise the process. Each new index corresponds to a deeper level in the tree:"
    },
    {
      "metadata": {},
      "cell_type": "markdown",
      "source": " <img src ='https://ibm.box.com/shared/static/vjvsygpzpwcr6czsucgno1wukyhk5vxq.gif'  width = 750, align = \"center\"></a>"
    },
    {
      "metadata": {},
      "cell_type": "markdown",
      "source": "Similarly, we can access elements nested deeper in the tree with a fourth index:"
    },
    {
      "metadata": {
        "trusted": true
      },
      "cell_type": "code",
      "source": "NestedT[4][1][0]",
      "execution_count": 21,
      "outputs": [
        {
          "output_type": "execute_result",
          "execution_count": 21,
          "data": {
            "text/plain": "1"
          },
          "metadata": {}
        }
      ]
    },
    {
      "metadata": {
        "trusted": true
      },
      "cell_type": "code",
      "source": "NestedT[4][1][1]",
      "execution_count": 22,
      "outputs": [
        {
          "output_type": "execute_result",
          "execution_count": 22,
          "data": {
            "text/plain": "2"
          },
          "metadata": {}
        }
      ]
    },
    {
      "metadata": {},
      "cell_type": "markdown",
      "source": "The following figure shows the relationship of the tree and the element **NestedT[4][1][1]**:"
    },
    {
      "metadata": {},
      "cell_type": "markdown",
      "source": " <img src ='https://ibm.box.com/shared/static/9y5s7515zwzc9v6i4f67yj3np2fv9evs.gif' width = 750, align = \"center\"></a>"
    },
    {
      "metadata": {},
      "cell_type": "markdown",
      "source": " <a id=\"ref2\"></a>\n<h2 align=center> Quiz on Tuples </h2>"
    },
    {
      "metadata": {},
      "cell_type": "markdown",
      "source": "Consider the following tuple:"
    },
    {
      "metadata": {
        "trusted": true
      },
      "cell_type": "code",
      "source": "genres_tuple = (\"pop\", \"rock\", \"soul\", \"hard rock\", \"soft rock\", \\\n                \"R&B\", \"progressive rock\", \"disco\") \ngenres_tuple",
      "execution_count": 23,
      "outputs": [
        {
          "output_type": "execute_result",
          "execution_count": 23,
          "data": {
            "text/plain": "('pop',\n 'rock',\n 'soul',\n 'hard rock',\n 'soft rock',\n 'R&B',\n 'progressive rock',\n 'disco')"
          },
          "metadata": {}
        }
      ]
    },
    {
      "metadata": {},
      "cell_type": "markdown",
      "source": "#### Find the length of the tuple, \"genres_tuple\":"
    },
    {
      "metadata": {
        "trusted": true
      },
      "cell_type": "code",
      "source": "len(genres_tuple)",
      "execution_count": 24,
      "outputs": [
        {
          "output_type": "execute_result",
          "execution_count": 24,
          "data": {
            "text/plain": "8"
          },
          "metadata": {}
        }
      ]
    },
    {
      "metadata": {},
      "cell_type": "markdown",
      "source": "<a ><img src = \"https://ibm.box.com/shared/static/n4969qbta8hhsycs2dc4n8jqbf062wdw.png\" width = 1100, align = \"center\"></a>"
    },
    {
      "metadata": {},
      "cell_type": "markdown",
      "source": "Double-click __here__ for the solution.\n<!-- Your answer is below:\n\"len(genres_tuple)\"-->\n"
    },
    {
      "metadata": {},
      "cell_type": "markdown",
      "source": "#### Access the element, with respect to index 3: "
    },
    {
      "metadata": {
        "trusted": true
      },
      "cell_type": "code",
      "source": "genres_tuple[3]\n",
      "execution_count": 25,
      "outputs": [
        {
          "output_type": "execute_result",
          "execution_count": 25,
          "data": {
            "text/plain": "'hard rock'"
          },
          "metadata": {}
        }
      ]
    },
    {
      "metadata": {},
      "cell_type": "markdown",
      "source": "Double-click __here__ for the solution.\n<!-- Your answer is below:\ngenres_tuple[3]-->\n"
    },
    {
      "metadata": {},
      "cell_type": "markdown",
      "source": "####   Use slicing to obtain indexes 3, 4 and 5:"
    },
    {
      "metadata": {
        "trusted": true
      },
      "cell_type": "code",
      "source": "genres_tuple[3:6]",
      "execution_count": 26,
      "outputs": [
        {
          "output_type": "execute_result",
          "execution_count": 26,
          "data": {
            "text/plain": "('hard rock', 'soft rock', 'R&B')"
          },
          "metadata": {}
        }
      ]
    },
    {
      "metadata": {},
      "cell_type": "markdown",
      "source": "Double-click __here__ for the solution.\n<!-- Your answer is below:\ngenres_tuple[3:6]-->"
    },
    {
      "metadata": {},
      "cell_type": "markdown",
      "source": "#### Find the first two elements of the tuple \"genres_tuple\":"
    },
    {
      "metadata": {
        "trusted": true
      },
      "cell_type": "code",
      "source": "genres_tuple[0:2]",
      "execution_count": 27,
      "outputs": [
        {
          "output_type": "execute_result",
          "execution_count": 27,
          "data": {
            "text/plain": "('pop', 'rock')"
          },
          "metadata": {}
        }
      ]
    },
    {
      "metadata": {},
      "cell_type": "markdown",
      "source": "Double-click __here__ for the solution.\n<!-- Your answer is below:\ngenres_tuple[0:2]-->"
    },
    {
      "metadata": {},
      "cell_type": "markdown",
      "source": "#### Find the first index of 'disco':"
    },
    {
      "metadata": {
        "trusted": true
      },
      "cell_type": "code",
      "source": "genres_tuple.index(\"disco\")",
      "execution_count": 34,
      "outputs": [
        {
          "output_type": "execute_result",
          "execution_count": 34,
          "data": {
            "text/plain": "7"
          },
          "metadata": {}
        }
      ]
    },
    {
      "metadata": {},
      "cell_type": "markdown",
      "source": "\nDouble-click __here__ for the solution.\n<!-- Your answer is below:\ngenres_tuple.index(\"disco\")-->\n"
    },
    {
      "metadata": {},
      "cell_type": "markdown",
      "source": "<hr>"
    },
    {
      "metadata": {},
      "cell_type": "markdown",
      "source": "####  Generate a sorted List from the Tuple C_tuple=(-5,1,-3):"
    },
    {
      "metadata": {
        "trusted": true
      },
      "cell_type": "code",
      "source": "C_tuple=(-5,1,-3)\nprint(type(C_tuple))\nC_tuple = sorted(C_tuple)\nprint(C_tuple)\ntype(C_tuple)",
      "execution_count": 39,
      "outputs": [
        {
          "output_type": "stream",
          "text": "<class 'tuple'>\n[-5, -3, 1]\n",
          "name": "stdout"
        },
        {
          "output_type": "execute_result",
          "execution_count": 39,
          "data": {
            "text/plain": "list"
          },
          "metadata": {}
        }
      ]
    },
    {
      "metadata": {},
      "cell_type": "markdown",
      "source": "Double-click __here__ for the solution.\n<!-- Your answer is below:\nC_tuple = (-5,1,-3)\nC_list = sorted(C_tuple)\nC_list-->"
    },
    {
      "metadata": {},
      "cell_type": "markdown",
      "source": " <hr></hr>\n<div class=\"alert alert-success alertsuccess\" style=\"margin-top: 20px\">\n<h4> [Tip] Saving the Notebook </h4>  \n\nYour notebook saves automatically every two minutes. You can manually save by going to **File** > **Save and Checkpoint**. You can come back to this notebook anytime by clicking this notebook under the \"**Recent Notebooks**\" list on the right-hand side.   \n\n\n</div>\n<hr></hr>\n<div class=\"alert alert-success alertsuccess\" style=\"margin-top: 20px\">\n<h4> [Tip] Notebook Features </h4>  \n  \nDid you know there are other **notebook options**? Click on the **>** symbol to the left of the notebook:\n\n<img src =https://ibm.box.com/shared/static/otu40m0kkzz5hropxah1nnzd2j01itom.png width = 35%>\n\n\n<p></p>\n\n</div>\n<hr></hr>"
    },
    {
      "metadata": {},
      "cell_type": "markdown",
      "source": " <a href=\"http://cocl.us/NotebooksPython101bottom\"><img src = \"https://ibm.box.com/shared/static/irypdxea2q4th88zu1o1tsd06dya10go.png\" width = 750, align = \"center\"></a>\n\n"
    },
    {
      "metadata": {},
      "cell_type": "markdown",
      "source": "# About the Authors:  \n\n [Joseph Santarcangelo]( https://www.linkedin.com/in/joseph-s-50398b136/) has a PhD in Electrical Engineering, his research focused on using machine learning, signal processing, and computer vision to determine how videos impact human cognition. Joseph has been working for IBM since he completed his PhD.\n"
    },
    {
      "metadata": {},
      "cell_type": "markdown",
      "source": " <hr>\nCopyright &copy; 2017 [cognitiveclass.ai](cognitiveclass.ai?utm_source=bducopyrightlink&utm_medium=dswb&utm_campaign=bdu). This notebook and its source code are released under the terms of the [MIT License](https://bigdatauniversity.com/mit-license/).​"
    },
    {
      "metadata": {
        "collapsed": true,
        "trusted": false
      },
      "cell_type": "code",
      "source": "",
      "execution_count": null,
      "outputs": []
    }
  ],
  "metadata": {
    "kernelspec": {
      "name": "python3",
      "display_name": "Python 3",
      "language": "python"
    },
    "language_info": {
      "mimetype": "text/x-python",
      "nbconvert_exporter": "python",
      "name": "python",
      "file_extension": ".py",
      "version": "3.5.4",
      "pygments_lexer": "ipython3",
      "codemirror_mode": {
        "version": 3,
        "name": "ipython"
      }
    }
  },
  "nbformat": 4,
  "nbformat_minor": 2
}