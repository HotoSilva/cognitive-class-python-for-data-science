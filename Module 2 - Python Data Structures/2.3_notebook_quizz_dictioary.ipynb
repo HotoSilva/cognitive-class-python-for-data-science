{
  "cells": [
    {
      "metadata": {},
      "cell_type": "markdown",
      "source": "You will need the dictionary <code>D</code>:"
    },
    {
      "metadata": {
        "trusted": true
      },
      "cell_type": "code",
      "source": "D={'a':0,'b':1,'c':2}",
      "execution_count": 1,
      "outputs": []
    },
    {
      "metadata": {},
      "cell_type": "markdown",
      "source": "<h3 align=center>Add an Element to the set</h3> "
    },
    {
      "metadata": {},
      "cell_type": "markdown",
      "source": "Find the value for the key <code> 'a' </code>"
    },
    {
      "metadata": {
        "trusted": true
      },
      "cell_type": "code",
      "source": "D['a']",
      "execution_count": 2,
      "outputs": [
        {
          "output_type": "execute_result",
          "execution_count": 2,
          "data": {
            "text/plain": "0"
          },
          "metadata": {}
        }
      ]
    },
    {
      "metadata": {},
      "cell_type": "markdown",
      "source": "<h3 align=center>Keys</h3> "
    },
    {
      "metadata": {},
      "cell_type": "markdown",
      "source": "Find the keys of the dictionary <code>D</code>"
    },
    {
      "metadata": {
        "trusted": true
      },
      "cell_type": "code",
      "source": "D.keys()",
      "execution_count": 3,
      "outputs": [
        {
          "output_type": "execute_result",
          "execution_count": 3,
          "data": {
            "text/plain": "dict_keys(['b', 'c', 'a'])"
          },
          "metadata": {}
        }
      ]
    },
    {
      "metadata": {},
      "cell_type": "markdown",
      "source": "<hr>\n<small>Copyright &copy; 2018 IBM Cognitive Class. This notebook and its source code are released under the terms of the [MIT License](https://cognitiveclass.ai/mit-license/).</small>"
    }
  ],
  "metadata": {
    "kernelspec": {
      "name": "python3",
      "display_name": "Python 3",
      "language": "python"
    },
    "language_info": {
      "mimetype": "text/x-python",
      "nbconvert_exporter": "python",
      "name": "python",
      "pygments_lexer": "ipython3",
      "version": "3.5.4",
      "file_extension": ".py",
      "codemirror_mode": {
        "version": 3,
        "name": "ipython"
      }
    }
  },
  "nbformat": 4,
  "nbformat_minor": 2
}