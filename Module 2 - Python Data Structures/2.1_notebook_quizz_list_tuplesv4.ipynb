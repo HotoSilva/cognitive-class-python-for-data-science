{
  "cells": [
    {
      "metadata": {},
      "cell_type": "markdown",
      "source": "<h3 align=center>Create a Tuple</h3>"
    },
    {
      "metadata": {},
      "cell_type": "markdown",
      "source": "create the  Tuple  <code> (0,1,2,3) </code> and assign it to the variable  <code> A</code>:"
    },
    {
      "metadata": {
        "trusted": true
      },
      "cell_type": "code",
      "source": "A = (0,1,2,3)",
      "execution_count": 3,
      "outputs": []
    },
    {
      "metadata": {},
      "cell_type": "markdown",
      "source": "<h3 align=center>Find the elements of a Tuple</h3> "
    },
    {
      "metadata": {},
      "cell_type": "markdown",
      "source": "Find the first two elements of the Tuple <code> A </code>:"
    },
    {
      "metadata": {
        "trusted": true
      },
      "cell_type": "code",
      "source": "A[0:2]",
      "execution_count": 4,
      "outputs": [
        {
          "output_type": "execute_result",
          "execution_count": 4,
          "data": {
            "text/plain": "(0, 1)"
          },
          "metadata": {}
        }
      ]
    },
    {
      "metadata": {},
      "cell_type": "markdown",
      "source": "<h3 align=center>Lists </h3> "
    },
    {
      "metadata": {},
      "cell_type": "markdown",
      "source": "For the next few questions, you will need the following list:"
    },
    {
      "metadata": {
        "trusted": true
      },
      "cell_type": "code",
      "source": "B=[\"a\",\"b\",\"c\"]",
      "execution_count": 5,
      "outputs": []
    },
    {
      "metadata": {},
      "cell_type": "markdown",
      "source": "Find the first two elements of the list <code> B</code>:"
    },
    {
      "metadata": {
        "trusted": true
      },
      "cell_type": "code",
      "source": "B[0:2]",
      "execution_count": 6,
      "outputs": [
        {
          "output_type": "execute_result",
          "execution_count": 6,
          "data": {
            "text/plain": "['a', 'b']"
          },
          "metadata": {}
        }
      ]
    },
    {
      "metadata": {},
      "cell_type": "markdown",
      "source": "Change the first element of the list to an uppercase  <code> \"A\" </code> "
    },
    {
      "metadata": {
        "trusted": true
      },
      "cell_type": "code",
      "source": "B[0] = \"A\"\nB",
      "execution_count": 7,
      "outputs": []
    },
    {
      "metadata": {},
      "cell_type": "markdown",
      "source": "<hr>\n<small>Copyright &copy; 2018 IBM Cognitive Class. This notebook and its source code are released under the terms of the [MIT License](https://cognitiveclass.ai/mit-license/).</small>"
    }
  ],
  "metadata": {
    "kernelspec": {
      "name": "python3",
      "display_name": "Python 3",
      "language": "python"
    },
    "language_info": {
      "mimetype": "text/x-python",
      "nbconvert_exporter": "python",
      "name": "python",
      "pygments_lexer": "ipython3",
      "version": "3.5.4",
      "file_extension": ".py",
      "codemirror_mode": {
        "version": 3,
        "name": "ipython"
      }
    }
  },
  "nbformat": 4,
  "nbformat_minor": 2
}