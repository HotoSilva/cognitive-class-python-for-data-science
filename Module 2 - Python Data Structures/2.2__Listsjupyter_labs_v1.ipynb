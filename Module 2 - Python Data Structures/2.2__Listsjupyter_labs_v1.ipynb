{
  "cells": [
    {
      "metadata": {},
      "cell_type": "markdown",
      "source": "<div class=\"alert alert-block alert-info\" style=\"margin-top: 20px\">\n <a href=\"http://cocl.us/NotebooksPython101\"><img src = \"https://ibm.box.com/shared/static/yfe6h4az47ktg2mm9h05wby2n7e8kei3.png\" width = 750, align = \"center\"></a>\n\n"
    },
    {
      "metadata": {},
      "cell_type": "markdown",
      "source": " <a href=\"https://www.bigdatauniversity.com\"><img src = \"https://ibm.box.com/shared/static/ugcqz6ohbvff804xp84y4kqnvvk3bq1g.png\" width = 300, align = \"center\"></a>\n\n\n\n\n<h1 align=center><font size = 5>LISTS  IN PYTHON</font></h1>"
    },
    {
      "metadata": {},
      "cell_type": "markdown",
      "source": "\n## Table of Contents\n\n\n<div class=\"alert alert-block alert-info\" style=\"margin-top: 20px\">\n<li><a href=\"#ref0\">About the Dataset</a></li>\n<li><a href=\"#ref1\">Lists</a></li>\n<li><a href=\"#ref2\">Quiz</a></li>\n<br>\n<p></p>\nEstimated Time Needed: <strong>15 min</strong>\n</div>\n\n<hr>"
    },
    {
      "metadata": {},
      "cell_type": "markdown",
      "source": "<a id=\"ref0\"></a>\n<center><h2>About the Dataset</h2></center>"
    },
    {
      "metadata": {},
      "cell_type": "markdown",
      "source": "Imagine you received many music recommendations from your friends and compiled all of the recommendations into a table, with specific information about each movie.\n\nThe table has one row for each album and several columns:\n\n- **artist** - Name of the artist\n- **album** - Name of the album\n- **released_year** - Year the album was released\n- **length_min_sec** - Length of the album (hours,minutes,seconds)\n- **genre** - Genre of the album\n- **music_recording_sales_millions** - Music recording sales (millions in USD) on [SONG://DATABASE](http://www.song-database.com/)\n- **claimed_sales_millions** - Album's claimed sales (millions in USD) on [SONG://DATABASE](http://www.song-database.com/)\n- **date_released** - Date on which the album was released\n- **soundtrack** - Indicates if the album is the movie soundtrack (Y) or (N)\n- **rating_of_friends** - Indicates the rating from your friends from 1 to 10\n<br>\n<br>\n\nThe dataset can be seen below:\n\n<font size=\"1\">\n<table font-size:xx-small style=\"width:25%\">\n  <tr>\n    <th>Artist</th>\n    <th>Album</th> \n    <th>Released</th>\n    <th>Length</th>\n    <th>Genre</th> \n    <th>Music recording sales (millions)</th>\n    <th>Claimed sales (millions)</th>\n    <th>Released</th>\n    <th>Soundtrack</th>\n    <th>Rating (friends)</th>\n  </tr>\n  <tr>\n    <td>Michael Jackson</td>\n    <td>Thriller</td> \n    <td>1982</td>\n    <td>00:42:19</td>\n    <td>Pop, rock, R&B</td>\n    <td>46</td>\n    <td>65</td>\n    <td>30-Nov-82</td>\n    <td></td>\n    <td>10.0</td>\n  </tr>\n  <tr>\n    <td>AC/DC</td>\n    <td>Back in Black</td> \n    <td>1980</td>\n    <td>00:42:11</td>\n    <td>Hard rock</td>\n    <td>26.1</td>\n    <td>50</td>\n    <td>25-Jul-80</td>\n    <td></td>\n    <td>8.5</td>\n  </tr>\n    <tr>\n    <td>Pink Floyd</td>\n    <td>The Dark Side of the Moon</td> \n    <td>1973</td>\n    <td>00:42:49</td>\n    <td>Progressive rock</td>\n    <td>24.2</td>\n    <td>45</td>\n    <td>01-Mar-73</td>\n    <td></td>\n    <td>9.5</td>\n  </tr>\n    <tr>\n    <td>Whitney Houston</td>\n    <td>The Bodyguard</td> \n    <td>1992</td>\n    <td>00:57:44</td>\n    <td>Soundtrack/R&B, soul, pop</td>\n    <td>26.1</td>\n    <td>50</td>\n    <td>25-Jul-80</td>\n    <td>Y</td>\n    <td>7.0</td>\n  </tr>\n    <tr>\n    <td>Meat Loaf</td>\n    <td>Bat Out of Hell</td> \n    <td>1977</td>\n    <td>00:46:33</td>\n    <td>Hard rock, progressive rock</td>\n    <td>20.6</td>\n    <td>43</td>\n    <td>21-Oct-77</td>\n    <td></td>\n    <td>7.0</td>\n  </tr>\n    <tr>\n    <td>Eagles</td>\n    <td>Their Greatest Hits (1971-1975)</td> \n    <td>1976</td>\n    <td>00:43:08</td>\n    <td>Rock, soft rock, folk rock</td>\n    <td>32.2</td>\n    <td>42</td>\n    <td>17-Feb-76</td>\n    <td></td>\n    <td>9.5</td>\n  </tr>\n    <tr>\n    <td>Bee Gees</td>\n    <td>Saturday Night Fever</td> \n    <td>1977</td>\n    <td>1:15:54</td>\n    <td>Disco</td>\n    <td>20.6</td>\n    <td>40</td>\n    <td>15-Nov-77</td>\n    <td>Y</td>\n    <td>9.0</td>\n  </tr>\n    <tr>\n    <td>Fleetwood Mac</td>\n    <td>Rumours</td> \n    <td>1977</td>\n    <td>00:40:01</td>\n    <td>Soft rock</td>\n    <td>27.9</td>\n    <td>40</td>\n    <td>04-Feb-77</td>\n    <td></td>\n    <td>9.5</td>\n  </tr>\n</table></font>"
    },
    {
      "metadata": {},
      "cell_type": "markdown",
      "source": "<hr>"
    },
    {
      "metadata": {},
      "cell_type": "markdown",
      "source": "<a id=\"ref1\"></a>\n<center><h2>Lists</h2></center>\n\nWe are going to take a look at lists in Python. A list is a sequenced collection of different objects such as integers, strings, and other lists as well. The address of each element within a list is called an 'index'. An index is used to access and refer to items within a list.\n"
    },
    {
      "metadata": {},
      "cell_type": "markdown",
      "source": "<a ><img src = \"https://ibm.box.com/shared/static/eln445fv5nzv3wlm4u8dnfhbrcrv0hff.png\" width = 1000, align = \"center\"></a>\n  <h4 align=center> Representation of a list  \n  </h4> \n\n\n\n"
    },
    {
      "metadata": {},
      "cell_type": "markdown",
      "source": " To create a list, type the list within square brackets **[ ]**, with your content inside the parenthesis and separated by commas. Let’s try it!"
    },
    {
      "metadata": {
        "trusted": true
      },
      "cell_type": "code",
      "source": "L=[\"Michael Jackson\" , 10.1,1982]\nL",
      "execution_count": 1,
      "outputs": [
        {
          "output_type": "execute_result",
          "execution_count": 1,
          "data": {
            "text/plain": "['Michael Jackson', 10.1, 1982]"
          },
          "metadata": {}
        }
      ]
    },
    {
      "metadata": {},
      "cell_type": "markdown",
      "source": "We can use negative and regular indexing with a list :"
    },
    {
      "metadata": {},
      "cell_type": "markdown",
      "source": " <a ><img src = \"https://ibm.box.com/shared/static/a7ac9lnvmcaz29n86ffez4as27fl3n9m.png\" width = 1000, align = \"center\"></a>\n  <h4 align=center> Representation of a list  \n  </h4> \n"
    },
    {
      "metadata": {
        "trusted": false
      },
      "cell_type": "code",
      "source": "print('the same element using negative and positive indexing:\\n Postive:',L[0],\n'\\n Negative:' , L[-3]  )\nprint('the same element using negative and positive indexing:\\n Postive:',L[1],\n'\\n Negative:' , L[-2]  )\nprint('the same element using negative and positive indexing:\\n Postive:',L[2],\n'\\n Negative:' , L[-1]  )",
      "execution_count": null,
      "outputs": []
    },
    {
      "metadata": {},
      "cell_type": "markdown",
      "source": "Lists can contain strings, floats, and integers. We can nest other lists, and we can also nest tuples and other data structures. The same indexing conventions apply for nesting:    \n"
    },
    {
      "metadata": {
        "trusted": false
      },
      "cell_type": "code",
      "source": "[ \"Michael Jackson\", 10.1,1982,[1,2],(\"A\",1) ]\n",
      "execution_count": null,
      "outputs": []
    },
    {
      "metadata": {},
      "cell_type": "markdown",
      "source": " We can also perform slicing in lists. For example, if we want the last two elements, we use the following command:"
    },
    {
      "metadata": {
        "trusted": false
      },
      "cell_type": "code",
      "source": "L=[ \"Michael Jackson\", 10.1,1982,\"MJ\",1]\nL",
      "execution_count": null,
      "outputs": []
    },
    {
      "metadata": {},
      "cell_type": "markdown",
      "source": "\n<a ><img src = \"https://ibm.box.com/shared/static/pt3pfp1sg5okwuwwpy0dnj8e94fl2mwy.png\" width = 1000, align = \"center\"></a>\n  <h4 align=center> Representation of a list  \n  </h4> "
    },
    {
      "metadata": {
        "trusted": false
      },
      "cell_type": "code",
      "source": "L[3:5]",
      "execution_count": null,
      "outputs": []
    },
    {
      "metadata": {},
      "cell_type": "markdown",
      "source": "We can use the method \"extend\" to add new elements to the list:"
    },
    {
      "metadata": {
        "trusted": true
      },
      "cell_type": "code",
      "source": "L=[ \"Michael Jackson\", 10.2]\nL.extend(['pop',10])\nL",
      "execution_count": 2,
      "outputs": [
        {
          "output_type": "execute_result",
          "execution_count": 2,
          "data": {
            "text/plain": "['Michael Jackson', 10.2, 'pop', 10]"
          },
          "metadata": {}
        }
      ]
    },
    {
      "metadata": {},
      "cell_type": "markdown",
      "source": "Another similar method is 'appended'. If we apply 'appended' instead of 'extended', we add one element to the list:"
    },
    {
      "metadata": {
        "trusted": true
      },
      "cell_type": "code",
      "source": "L=[ \"Michael Jackson\", 10.2]\nL.append(['pop',10])\nL",
      "execution_count": 3,
      "outputs": [
        {
          "output_type": "execute_result",
          "execution_count": 3,
          "data": {
            "text/plain": "['Michael Jackson', 10.2, ['pop', 10]]"
          },
          "metadata": {}
        }
      ]
    },
    {
      "metadata": {},
      "cell_type": "markdown",
      "source": " Each time we apply a method, the list changes. If we apply \"extend\" we add two new elements to the list. The list **L** is then modified by adding two new elements:"
    },
    {
      "metadata": {
        "trusted": true
      },
      "cell_type": "code",
      "source": "L=[ \"Michael Jackson\", 10.2]\nL.extend(['pop',10])\nL",
      "execution_count": 4,
      "outputs": [
        {
          "output_type": "execute_result",
          "execution_count": 4,
          "data": {
            "text/plain": "['Michael Jackson', 10.2, 'pop', 10]"
          },
          "metadata": {}
        }
      ]
    },
    {
      "metadata": {},
      "cell_type": "markdown",
      "source": "If we append the list  **['a','b']** we have one new element consisting of a nested list:"
    },
    {
      "metadata": {
        "trusted": true
      },
      "cell_type": "code",
      "source": "L.append(['a','b'])\nL",
      "execution_count": 5,
      "outputs": [
        {
          "output_type": "execute_result",
          "execution_count": 5,
          "data": {
            "text/plain": "['Michael Jackson', 10.2, 'pop', 10, ['a', 'b']]"
          },
          "metadata": {}
        }
      ]
    },
    {
      "metadata": {},
      "cell_type": "markdown",
      "source": "As lists are mutable, we can change them. For example, we can change the first element as follows:"
    },
    {
      "metadata": {
        "trusted": true
      },
      "cell_type": "code",
      "source": "A=[\"disco\",10,1.2]\nprint('Before change:', A)\nA[0]='hard rock'\nprint('After change:', A)",
      "execution_count": 6,
      "outputs": [
        {
          "output_type": "stream",
          "text": "Before change: ['disco', 10, 1.2]\nAfter change: ['hard rock', 10, 1.2]\n",
          "name": "stdout"
        }
      ]
    },
    {
      "metadata": {},
      "cell_type": "markdown",
      "source": " We can also delete an element of a list using the **del** command:"
    },
    {
      "metadata": {
        "trusted": false
      },
      "cell_type": "code",
      "source": "print('Before change:', A)\ndel(A[0])\nprint('After change:', A)",
      "execution_count": null,
      "outputs": []
    },
    {
      "metadata": {},
      "cell_type": "markdown",
      "source": " We can convert a string to a list using 'split'.  For example, the method **split** translates every group of characters separated by a space into an element in a list:\n"
    },
    {
      "metadata": {
        "trusted": false
      },
      "cell_type": "code",
      "source": "'hard rock'.split()\n",
      "execution_count": null,
      "outputs": []
    },
    {
      "metadata": {},
      "cell_type": "markdown",
      "source": "We can use the split function to separate strings on a specific character. We pass the character we would like to split on into the argument, which in this case is a comma.  The result is a list, and each element corresponds to a set of characters that have been separated by a comma: "
    },
    {
      "metadata": {
        "trusted": false
      },
      "cell_type": "code",
      "source": "'A,B,C,D'.split(',')\n",
      "execution_count": null,
      "outputs": []
    },
    {
      "metadata": {},
      "cell_type": "markdown",
      "source": " When we set one variable  **B** equal to **A**;  both **A** and **B** are referencing the same list in memory :"
    },
    {
      "metadata": {
        "trusted": false
      },
      "cell_type": "code",
      "source": "A=[\"hard rock\",10,1.2]\nB=A\nprint('A:',A)\nprint('B:',B)",
      "execution_count": null,
      "outputs": []
    },
    {
      "metadata": {},
      "cell_type": "markdown",
      "source": " <a ><img src = 'https://ibm.box.com/shared/static/7g2u8hqqb4birdwn7m9uir4s9wfj8mko.png' width = 1000, align = \"center\"></a>\n  "
    },
    {
      "metadata": {},
      "cell_type": "markdown",
      "source": " Initially, the value of the first element in ** B** is set as hard rock. If we change the first element in **A**  to 'banana', we get an unexpected side effect.  As **A** and **B ** are referencing the same list, if we change list **A**, then list **B** also changes.  If we check the first element of **B** we get banana instead of hard rock:"
    },
    {
      "metadata": {
        "trusted": false
      },
      "cell_type": "code",
      "source": "print('B[0]:',B[0])\nA[0]=\"banana\"\nprint('B[0]:',B[0])",
      "execution_count": null,
      "outputs": []
    },
    {
      "metadata": {},
      "cell_type": "markdown",
      "source": "This is demonstrated in the following figure: "
    },
    {
      "metadata": {},
      "cell_type": "markdown",
      "source": " <a ><img src = https://ibm.box.com/shared/static/thdu6y5pzh99qpun4tu2fjvj86st0hbu.gif width = 1000, align = \"center\"></a>\n\n\n"
    },
    {
      "metadata": {},
      "cell_type": "markdown",
      "source": "You can clone list  **A** by using  the following syntax:"
    },
    {
      "metadata": {
        "trusted": false
      },
      "cell_type": "code",
      "source": "B=A[:]\nB",
      "execution_count": null,
      "outputs": []
    },
    {
      "metadata": {},
      "cell_type": "markdown",
      "source": " Variable **B** references a new copy or clone of the original list; this is demonstrated in the following figure:"
    },
    {
      "metadata": {},
      "cell_type": "markdown",
      "source": "\n <a ><img src = https://ibm.box.com/shared/static/gwx86gaoeizqjvx7xj96cb8i9hn684ei.gif width = 1000, align = \"center\"></a>\n\n\n"
    },
    {
      "metadata": {},
      "cell_type": "markdown",
      "source": "Now if you change **A**, **B** will not change: \n"
    },
    {
      "metadata": {
        "trusted": false
      },
      "cell_type": "code",
      "source": "print('B[0]:',B[0])\nA[0]=\"banana\"\nprint('B[0]:',B[0])",
      "execution_count": null,
      "outputs": []
    },
    {
      "metadata": {
        "collapsed": true,
        "trusted": false
      },
      "cell_type": "code",
      "source": "",
      "execution_count": null,
      "outputs": []
    },
    {
      "metadata": {},
      "cell_type": "markdown",
      "source": " <a id=\"ref2\"></a>\n<center><h2>Quiz</h2></center>"
    },
    {
      "metadata": {},
      "cell_type": "markdown",
      "source": "#### Create a list 'a_list' , with the following elements 1, “hello”, [1,2,3 ] and True. "
    },
    {
      "metadata": {
        "trusted": false
      },
      "cell_type": "code",
      "source": " ",
      "execution_count": null,
      "outputs": []
    },
    {
      "metadata": {},
      "cell_type": "markdown",
      "source": "Double-click __here__ for the solution.\n<!-- Your answer is below:\na_list=[1, 'hello', [1,2,3 ] , True]\na_list\n-->"
    },
    {
      "metadata": {},
      "cell_type": "markdown",
      "source": "####  Find the value stored at index 1 of 'a_list'."
    },
    {
      "metadata": {
        "trusted": false
      },
      "cell_type": "code",
      "source": "",
      "execution_count": null,
      "outputs": []
    },
    {
      "metadata": {},
      "cell_type": "markdown",
      "source": "\nDouble-click __here__ for the solution.\n<!-- Your answer is below:\na_list[1]\n-->"
    },
    {
      "metadata": {},
      "cell_type": "markdown",
      "source": "####  Retrieve the elements stored at index 1,2, and 3 of 'a_list'."
    },
    {
      "metadata": {
        "trusted": false
      },
      "cell_type": "code",
      "source": "",
      "execution_count": null,
      "outputs": []
    },
    {
      "metadata": {},
      "cell_type": "markdown",
      "source": " <div align=\"right\">\n<a href=\"#q3\" class=\"btn btn-default\" data-toggle=\"collapse\">Click here for the solution</a>\n</div>\n<div id=\"q3\" class=\"collapse\">\n```\na_list[1:3]\n\n```"
    },
    {
      "metadata": {},
      "cell_type": "markdown",
      "source": "#### 4) Concatenate the following lists A=[1,'a'] abd B=[2,1,'d']:"
    },
    {
      "metadata": {
        "collapsed": true,
        "trusted": false
      },
      "cell_type": "code",
      "source": "",
      "execution_count": null,
      "outputs": []
    },
    {
      "metadata": {},
      "cell_type": "markdown",
      "source": " <div align=\"right\">\n<a href=\"#q4\" class=\"btn btn-default\" data-toggle=\"collapse\">Click here for the solution</a>\n</div>\n<div id=\"q4\" class=\"collapse\">\n```\nA=[1,'a'] \nB=[2,1,'d']\nA+B\n```"
    },
    {
      "metadata": {},
      "cell_type": "markdown",
      "source": " <a href=\"http://cocl.us/NotebooksPython101bottom\"><img src = \"https://ibm.box.com/shared/static/irypdxea2q4th88zu1o1tsd06dya10go.png\" width = 750, align = \"center\"></a>\n"
    },
    {
      "metadata": {},
      "cell_type": "markdown",
      "source": "# About the Authors:  \n\n [Joseph Santarcangelo]( https://www.linkedin.com/in/joseph-s-50398b136/) has a PhD in Electrical Engineering, his research focused on using machine learning, signal processing, and computer vision to determine how videos impact \n ]human cognition. Joseph has been working for IBM since he completed his PhD.\n"
    },
    {
      "metadata": {},
      "cell_type": "markdown",
      "source": " <hr>\nCopyright &copy; 2017 [cognitiveclass.ai](cognitiveclass.ai?utm_source=bducopyrightlink&utm_medium=dswb&utm_campaign=bdu). This notebook and its source code are released under the terms of the [MIT License](https://bigdatauniversity.com/mit-license/).​"
    },
    {
      "metadata": {
        "collapsed": true,
        "trusted": false
      },
      "cell_type": "code",
      "source": "",
      "execution_count": null,
      "outputs": []
    }
  ],
  "metadata": {
    "kernelspec": {
      "name": "python3",
      "display_name": "Python 3",
      "language": "python"
    },
    "language_info": {
      "mimetype": "text/x-python",
      "nbconvert_exporter": "python",
      "name": "python",
      "pygments_lexer": "ipython3",
      "version": "3.5.4",
      "file_extension": ".py",
      "codemirror_mode": {
        "version": 3,
        "name": "ipython"
      }
    }
  },
  "nbformat": 4,
  "nbformat_minor": 2
}