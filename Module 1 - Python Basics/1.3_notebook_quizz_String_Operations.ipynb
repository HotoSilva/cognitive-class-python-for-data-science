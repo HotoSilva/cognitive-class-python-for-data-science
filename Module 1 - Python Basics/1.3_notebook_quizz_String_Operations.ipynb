{
  "cells": [
    {
      "metadata": {},
      "cell_type": "markdown",
      "source": "<h3 align=center>Slicing </h3>"
    },
    {
      "metadata": {},
      "cell_type": "markdown",
      "source": "Use slicing to find the first four elements of the following string:"
    },
    {
      "metadata": {
        "trusted": true
      },
      "cell_type": "code",
      "source": "Letters=\"ABCDEFGHIJK\"\nLetters[:4]",
      "execution_count": 13,
      "outputs": [
        {
          "output_type": "execute_result",
          "execution_count": 13,
          "data": {
            "text/plain": "'ABCD'"
          },
          "metadata": {}
        }
      ]
    },
    {
      "metadata": {},
      "cell_type": "markdown",
      "source": "<h3 align=center>Strides are Good </h3> "
    },
    {
      "metadata": {},
      "cell_type": "markdown",
      "source": "Use a stride value of two on the following string :"
    },
    {
      "metadata": {
        "trusted": true
      },
      "cell_type": "code",
      "source": "Good=\"GsoAo+d\"\nGood[::2]",
      "execution_count": 14,
      "outputs": [
        {
          "output_type": "execute_result",
          "execution_count": 14,
          "data": {
            "text/plain": "'Good'"
          },
          "metadata": {}
        }
      ]
    },
    {
      "metadata": {},
      "cell_type": "markdown",
      "source": "<h3 align=center>uppercase to UPPERCASE </h3> "
    },
    {
      "metadata": {},
      "cell_type": "markdown",
      "source": "Convert the following string to uppercase using the method <code>upper()</code>"
    },
    {
      "metadata": {
        "trusted": true
      },
      "cell_type": "code",
      "source": "\"uppercase\".upper()",
      "execution_count": 15,
      "outputs": [
        {
          "output_type": "execute_result",
          "execution_count": 15,
          "data": {
            "text/plain": "'UPPERCASE'"
          },
          "metadata": {}
        }
      ]
    },
    {
      "metadata": {},
      "cell_type": "markdown",
      "source": "<hr>\n<small>Copyright &copy; 2018 IBM Cognitive Class. This notebook and its source code are released under the terms of the [MIT License](https://cognitiveclass.ai/mit-license/).</small>"
    },
    {
      "metadata": {
        "trusted": true
      },
      "cell_type": "code",
      "source": "#obtendo os números pares da sequência\nNumbers=\"0123456\"\nNumbers[::2]",
      "execution_count": 27,
      "outputs": [
        {
          "output_type": "execute_result",
          "execution_count": 27,
          "data": {
            "text/plain": "'0246'"
          },
          "metadata": {}
        }
      ]
    },
    {
      "metadata": {
        "trusted": true
      },
      "cell_type": "code",
      "source": "Numbers.find(\"1\")",
      "execution_count": 28,
      "outputs": [
        {
          "output_type": "execute_result",
          "execution_count": 28,
          "data": {
            "text/plain": "1"
          },
          "metadata": {}
        }
      ]
    },
    {
      "metadata": {
        "trusted": true
      },
      "cell_type": "code",
      "source": "",
      "execution_count": null,
      "outputs": []
    }
  ],
  "metadata": {
    "kernelspec": {
      "name": "python3",
      "display_name": "Python 3",
      "language": "python"
    },
    "language_info": {
      "mimetype": "text/x-python",
      "nbconvert_exporter": "python",
      "name": "python",
      "pygments_lexer": "ipython3",
      "version": "3.5.4",
      "file_extension": ".py",
      "codemirror_mode": {
        "version": 3,
        "name": "ipython"
      }
    }
  },
  "nbformat": 4,
  "nbformat_minor": 2
}