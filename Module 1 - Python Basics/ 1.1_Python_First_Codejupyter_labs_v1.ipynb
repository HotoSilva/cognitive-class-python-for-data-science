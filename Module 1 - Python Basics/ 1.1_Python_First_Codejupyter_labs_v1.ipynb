{
  "cells": [
    {
      "metadata": {},
      "cell_type": "markdown",
      "source": "\n  <a href=\"http://cocl.us/NotebooksPython101\"><img src = \"https://ibm.box.com/shared/static/yfe6h4az47ktg2mm9h05wby2n7e8kei3.png\" width = 750, align = \"center\"></a>"
    },
    {
      "metadata": {},
      "cell_type": "markdown",
      "source": "<a ><img src = \"https://ibm.box.com/shared/static/ugcqz6ohbvff804xp84y4kqnvvk3bq1g.png\" width = 200,align = \"center\"></a>\n\n\n\n<h1 align=center><font size = 5>Python - Writing Your First Python Code!</font></h1>   "
    },
    {
      "metadata": {},
      "cell_type": "markdown",
      "source": "# Welcome!\n\nBy the end of this notebook, you will have learned the basics of Python, including writing some basic commands, understanding object types, and some simple operations!  "
    },
    {
      "metadata": {},
      "cell_type": "markdown",
      "source": "# Table of Contents\n\n\n<div class=\"alert alert-block alert-info\" style=\"margin-top: 20px\">\n<li><a href=\"#ref0\">First Program in Python</a></li>\n<li><a href=\"#ref1\">Object Types  </a></li>\n<li><a href=\"#ref2\">Expressions and Variables</a></li>\n\n<br>\n<p></p>\nEstimated Time Needed: <strong>25 min</strong>\n</div>\n\n<hr>"
    },
    {
      "metadata": {},
      "cell_type": "markdown",
      "source": " <a id=\"ref0\"></a>\n<h2 align=center>Your First Program in Python </h2> "
    },
    {
      "metadata": {},
      "cell_type": "markdown",
      "source": "A statement or expression is an instruction the computer will run or execute. Perhaps the simplest program you can write is to print a statement in Python."
    },
    {
      "metadata": {},
      "cell_type": "markdown",
      "source": "<div class=\"alert alert-success alertsuccess\" style=\"margin-top: 20px\">\n**Tip**: To *execute* the Python code in the grey code cell below, **click on it and press Shift + Enter**.\n</div>"
    },
    {
      "metadata": {
        "trusted": true
      },
      "cell_type": "code",
      "source": "print('Hello World!')",
      "execution_count": 1,
      "outputs": [
        {
          "output_type": "stream",
          "text": "Hello World!\n",
          "name": "stdout"
        }
      ]
    },
    {
      "metadata": {},
      "cell_type": "markdown",
      "source": "After executing the cell above, you should see that Python return the string, `Hello Python 101`. Congratulations on running your first Python code!"
    },
    {
      "metadata": {},
      "cell_type": "markdown",
      "source": "<div class=\"alert alert-success alertsuccess\" style=\"margin-top: 20px\">\n**Tip:** **`print()`** is the **function** that you **executed**, and you *passed in* an **argument** of `'Hello World!'`.\n</div>\n"
    },
    {
      "metadata": {},
      "cell_type": "markdown",
      "source": "### Python 3"
    },
    {
      "metadata": {},
      "cell_type": "markdown",
      "source": "How do we know that Python 3 is running? Take a look in the top-right hand corner of this notebook. You should see \"Python 3\"!"
    },
    {
      "metadata": {},
      "cell_type": "markdown",
      "source": "### Writing comments in Python"
    },
    {
      "metadata": {},
      "cell_type": "markdown",
      "source": "In addition to writing code, note that it is customary to comment your code to help describe what it does. Not only does this help **other people** understand your code, it can also serve as a _reminder_ **to you** of what your code does. (This is especially true when you write some code and then come back to it weeks or months later.)\n\nTo write comments in your Python code, use the hash symbol (#) before writing your comment. When you run the code Python will ignore everything after the # in that line."
    },
    {
      "metadata": {
        "trusted": true
      },
      "cell_type": "code",
      "source": "print('Hello Python 101') #this my comment\n#print('Hi')",
      "execution_count": 2,
      "outputs": [
        {
          "output_type": "stream",
          "text": "Hello Python 101\n",
          "name": "stdout"
        }
      ]
    },
    {
      "metadata": {},
      "cell_type": "markdown",
      "source": "Great! After executing the cell above, you should notice that **\"this is my comment** did not appeared in the output, because it was a comment (and thus ignored by Python). \nThe second line was also not executed because `print('Hi')` was preceded by a hash symbol (#) as well!"
    },
    {
      "metadata": {},
      "cell_type": "markdown",
      "source": "### Errors in Python"
    },
    {
      "metadata": {},
      "cell_type": "markdown",
      "source": "Before continuing, it's important to note when things go wrong in Python, and we cause **errors**."
    },
    {
      "metadata": {},
      "cell_type": "markdown",
      "source": "There are many kinds of errors, and you **do not need to memorize the various types of errors**. Instead, what's most important is know **what the error messages mean**.\n\nFor example, if you spell **print** as **frint**, you will get an error message."
    },
    {
      "metadata": {
        "trusted": true
      },
      "cell_type": "code",
      "source": "frint(\"Hello World!\")",
      "execution_count": 3,
      "outputs": [
        {
          "output_type": "error",
          "ename": "NameError",
          "evalue": "name 'frint' is not defined",
          "traceback": [
            "\u001b[0;31m---------------------------------------------------------------------------\u001b[0m",
            "\u001b[0;31mNameError\u001b[0m                                 Traceback (most recent call last)",
            "\u001b[0;32m<ipython-input-3-cbc42dbb0087>\u001b[0m in \u001b[0;36m<module>\u001b[0;34m()\u001b[0m\n\u001b[0;32m----> 1\u001b[0;31m \u001b[0mfrint\u001b[0m\u001b[0;34m(\u001b[0m\u001b[0;34m\"Hello World!\"\u001b[0m\u001b[0;34m)\u001b[0m\u001b[0;34m\u001b[0m\u001b[0m\n\u001b[0m",
            "\u001b[0;31mNameError\u001b[0m: name 'frint' is not defined"
          ]
        }
      ]
    },
    {
      "metadata": {},
      "cell_type": "markdown",
      "source": "The error message tells you (1) where the error occurred, and (2) what kind of error it was. Here, Python attempted to run the function `frint`, but could not determine what `frint` -- since it is _undefined_."
    },
    {
      "metadata": {},
      "cell_type": "markdown",
      "source": "### Does Python know the error in the script before you run it?\nNo, Python is naive! Python will try to run the code line-by-line, and it will stop if it runs into an error."
    },
    {
      "metadata": {
        "trusted": true
      },
      "cell_type": "code",
      "source": "print(\"This will be printed\")\nfrint(\"This will cause an error\")\nprint(\"This will NOT be printed\")",
      "execution_count": 4,
      "outputs": [
        {
          "output_type": "stream",
          "text": "This will be printed\n",
          "name": "stdout"
        },
        {
          "output_type": "error",
          "ename": "NameError",
          "evalue": "name 'frint' is not defined",
          "traceback": [
            "\u001b[0;31m---------------------------------------------------------------------------\u001b[0m",
            "\u001b[0;31mNameError\u001b[0m                                 Traceback (most recent call last)",
            "\u001b[0;32m<ipython-input-4-aa3f0d14d353>\u001b[0m in \u001b[0;36m<module>\u001b[0;34m()\u001b[0m\n\u001b[1;32m      1\u001b[0m \u001b[0mprint\u001b[0m\u001b[0;34m(\u001b[0m\u001b[0;34m\"This will be printed\"\u001b[0m\u001b[0;34m)\u001b[0m\u001b[0;34m\u001b[0m\u001b[0m\n\u001b[0;32m----> 2\u001b[0;31m \u001b[0mfrint\u001b[0m\u001b[0;34m(\u001b[0m\u001b[0;34m\"This will cause an error\"\u001b[0m\u001b[0;34m)\u001b[0m\u001b[0;34m\u001b[0m\u001b[0m\n\u001b[0m\u001b[1;32m      3\u001b[0m \u001b[0mprint\u001b[0m\u001b[0;34m(\u001b[0m\u001b[0;34m\"This will NOT be printed\"\u001b[0m\u001b[0;34m)\u001b[0m\u001b[0;34m\u001b[0m\u001b[0m\n",
            "\u001b[0;31mNameError\u001b[0m: name 'frint' is not defined"
          ]
        }
      ]
    },
    {
      "metadata": {},
      "cell_type": "markdown",
      "source": "More on errors later on in this course!"
    },
    {
      "metadata": {},
      "cell_type": "markdown",
      "source": "### Exercise: Your First Program"
    },
    {
      "metadata": {},
      "cell_type": "markdown",
      "source": "#### Using the `print()` function, print out the phrase: \"hello world\""
    },
    {
      "metadata": {
        "trusted": true
      },
      "cell_type": "code",
      "source": "# Write your code below and press Shift+Enter to execute \nprint(\"hello world\")\n\n\n",
      "execution_count": 5,
      "outputs": [
        {
          "output_type": "stream",
          "text": "hello world\n",
          "name": "stdout"
        }
      ]
    },
    {
      "metadata": {},
      "cell_type": "markdown",
      "source": "Double-click __here__ for the solution.\n\n<!-- Your answer is below:\n\n\nprint(\"hello world!\")\n\n-->"
    },
    {
      "metadata": {},
      "cell_type": "markdown",
      "source": "#### Print out the phrase: \"Hello World\"  and comment it with the phrase \"printing Hello World\" _all in one line of code_"
    },
    {
      "metadata": {
        "trusted": true
      },
      "cell_type": "code",
      "source": "# Write your code below\nprint(\"Hello World\") #printing Hello World\n\n\n",
      "execution_count": 6,
      "outputs": [
        {
          "output_type": "stream",
          "text": "Hello World\n",
          "name": "stdout"
        }
      ]
    },
    {
      "metadata": {},
      "cell_type": "markdown",
      "source": "Double-click __here__ for the solution.\n\n<!-- Your answer is below:\n\nprint(\"Hello World\") #print Hello World\n\n-->\n"
    },
    {
      "metadata": {},
      "cell_type": "markdown",
      "source": "<a id=\"ref1\"></a>\n<h2 align=center> Types of objects in Python </h2>"
    },
    {
      "metadata": {},
      "cell_type": "markdown",
      "source": "You can have many different object types in Python, let's start with **strings**, **integers** and **floats**. Anytime you write words (text) in Python, you're using character **strings** (strings for short). Numbers, on the other hand, depend: numbers can be **integers** (like -1, 0, 100) or **floats**, which are real numbers (like 3.14, -42.0)."
    },
    {
      "metadata": {},
      "cell_type": "markdown",
      "source": " <a,align = \"center\"><img src = \"https://ibm.box.com/shared/static/8zp0t4oh7kuzleudrszhkqukcup1708f.png\" width = 600></a>"
    },
    {
      "metadata": {},
      "cell_type": "markdown",
      "source": "The following chart summarizes three data types for the last examples,  the first column indicates the expression  the second column indicates the data type\n"
    },
    {
      "metadata": {
        "trusted": false
      },
      "cell_type": "code",
      "source": "11 #integer",
      "execution_count": null,
      "outputs": []
    },
    {
      "metadata": {
        "trusted": false
      },
      "cell_type": "code",
      "source": "2.14 #float",
      "execution_count": null,
      "outputs": []
    },
    {
      "metadata": {
        "trusted": false
      },
      "cell_type": "code",
      "source": "\"Hello Python 101\" #character string",
      "execution_count": null,
      "outputs": []
    },
    {
      "metadata": {},
      "cell_type": "markdown",
      "source": " We can see the actual data type in python by using the **`type()`** command"
    },
    {
      "metadata": {
        "trusted": false
      },
      "cell_type": "code",
      "source": "type(12)",
      "execution_count": null,
      "outputs": []
    },
    {
      "metadata": {
        "trusted": false
      },
      "cell_type": "code",
      "source": "type(2.14)",
      "execution_count": null,
      "outputs": []
    },
    {
      "metadata": {
        "trusted": false
      },
      "cell_type": "code",
      "source": "type(\"Hello Python 101\")",
      "execution_count": null,
      "outputs": []
    },
    {
      "metadata": {},
      "cell_type": "markdown",
      "source": "#### Using the `type()` function, check the object type of `12.0`?"
    },
    {
      "metadata": {
        "trusted": true
      },
      "cell_type": "code",
      "source": "# Write your code below\ntype(12.0)\n\n\n",
      "execution_count": 7,
      "outputs": [
        {
          "output_type": "execute_result",
          "execution_count": 7,
          "data": {
            "text/plain": "float"
          },
          "metadata": {}
        }
      ]
    },
    {
      "metadata": {},
      "cell_type": "markdown",
      "source": "### Integers"
    },
    {
      "metadata": {},
      "cell_type": "markdown",
      "source": "Here are some integers, integers  can be negative or positive:\n"
    },
    {
      "metadata": {},
      "cell_type": "markdown",
      "source": "<a  align = \"center\"><img src = \"https://ibm.box.com/shared/static/19iqm3q5pvxzuwa22d5ihxcr6eftjl48.png\" width = 600></a>"
    },
    {
      "metadata": {},
      "cell_type": "markdown",
      "source": "We can verify some of the above examples using the type command:"
    },
    {
      "metadata": {
        "trusted": true
      },
      "cell_type": "code",
      "source": "type(-1)",
      "execution_count": 10,
      "outputs": [
        {
          "output_type": "execute_result",
          "execution_count": 10,
          "data": {
            "text/plain": "int"
          },
          "metadata": {}
        }
      ]
    },
    {
      "metadata": {
        "trusted": true
      },
      "cell_type": "code",
      "source": "type(4)",
      "execution_count": 9,
      "outputs": [
        {
          "output_type": "execute_result",
          "execution_count": 9,
          "data": {
            "text/plain": "int"
          },
          "metadata": {}
        }
      ]
    },
    {
      "metadata": {
        "trusted": true
      },
      "cell_type": "code",
      "source": "type(0)",
      "execution_count": 8,
      "outputs": [
        {
          "output_type": "execute_result",
          "execution_count": 8,
          "data": {
            "text/plain": "int"
          },
          "metadata": {}
        }
      ]
    },
    {
      "metadata": {},
      "cell_type": "markdown",
      "source": "### Floats "
    },
    {
      "metadata": {},
      "cell_type": "markdown",
      "source": " Floats are real numbers; they include the integers but also \"numbers in-between the integers\". Consider the numbers between  0 and one we can select numbers in-between them, these numbers are floats. Similarly, consider the numbers between 0.5 and 0.6. We can select numbers in-between them, these are floats as well. We can continue the process, zooming in for different numbers, of course, there is a limit, but it is quite small."
    },
    {
      "metadata": {},
      "cell_type": "markdown",
      "source": " We can verify some of the above examples using the type command:"
    },
    {
      "metadata": {
        "trusted": true
      },
      "cell_type": "code",
      "source": "type(1.0)",
      "execution_count": 11,
      "outputs": [
        {
          "output_type": "execute_result",
          "execution_count": 11,
          "data": {
            "text/plain": "float"
          },
          "metadata": {}
        }
      ]
    },
    {
      "metadata": {
        "trusted": true
      },
      "cell_type": "code",
      "source": "type(0.5)",
      "execution_count": 12,
      "outputs": [
        {
          "output_type": "execute_result",
          "execution_count": 12,
          "data": {
            "text/plain": "float"
          },
          "metadata": {}
        }
      ]
    },
    {
      "metadata": {
        "trusted": false
      },
      "cell_type": "code",
      "source": "type(0.56)",
      "execution_count": null,
      "outputs": []
    },
    {
      "metadata": {},
      "cell_type": "markdown",
      "source": "### Converting from one object type to a different object type"
    },
    {
      "metadata": {},
      "cell_type": "markdown",
      "source": "You can change the type of the object in Python; this is called typecasting. For example, you can convert an integer into a float, as in 2 to 2.0."
    },
    {
      "metadata": {
        "trusted": false
      },
      "cell_type": "code",
      "source": "type(2) #verify that this is an integer",
      "execution_count": null,
      "outputs": []
    },
    {
      "metadata": {},
      "cell_type": "markdown",
      "source": "#### Converting to float:"
    },
    {
      "metadata": {
        "trusted": true
      },
      "cell_type": "code",
      "source": "float(2)",
      "execution_count": 13,
      "outputs": [
        {
          "output_type": "execute_result",
          "execution_count": 13,
          "data": {
            "text/plain": "2.0"
          },
          "metadata": {}
        }
      ]
    },
    {
      "metadata": {
        "trusted": true
      },
      "cell_type": "code",
      "source": "type(float(2))",
      "execution_count": 14,
      "outputs": [
        {
          "output_type": "execute_result",
          "execution_count": 14,
          "data": {
            "text/plain": "float"
          },
          "metadata": {}
        }
      ]
    },
    {
      "metadata": {},
      "cell_type": "markdown",
      "source": "#### Converting to integer:"
    },
    {
      "metadata": {},
      "cell_type": "markdown",
      "source": " Nothing really changes. If you cast a float to an integer, you must be careful. For example, if you cast the float 1.1 to 1 you will lose some information : "
    },
    {
      "metadata": {
        "trusted": false
      },
      "cell_type": "code",
      "source": "int(1.1)",
      "execution_count": null,
      "outputs": []
    },
    {
      "metadata": {},
      "cell_type": "markdown",
      "source": "#### Converting from strings to integers/floats:"
    },
    {
      "metadata": {},
      "cell_type": "markdown",
      "source": "If a string contains an integer value, you can convert it to an integer:"
    },
    {
      "metadata": {
        "trusted": false
      },
      "cell_type": "code",
      "source": "int('1')",
      "execution_count": null,
      "outputs": []
    },
    {
      "metadata": {},
      "cell_type": "markdown",
      "source": "You can also convert strings containing float values into float objects"
    },
    {
      "metadata": {
        "trusted": false
      },
      "cell_type": "code",
      "source": "float('1.2')",
      "execution_count": null,
      "outputs": []
    },
    {
      "metadata": {},
      "cell_type": "markdown",
      "source": "However, if we attempt to convert a string that contains a non-numerical value, we get an error:"
    },
    {
      "metadata": {
        "trusted": true
      },
      "cell_type": "code",
      "source": "int(\"A\")",
      "execution_count": 15,
      "outputs": [
        {
          "output_type": "error",
          "ename": "ValueError",
          "evalue": "invalid literal for int() with base 10: 'A'",
          "traceback": [
            "\u001b[0;31m---------------------------------------------------------------------------\u001b[0m",
            "\u001b[0;31mValueError\u001b[0m                                Traceback (most recent call last)",
            "\u001b[0;32m<ipython-input-15-51b62aeb0293>\u001b[0m in \u001b[0;36m<module>\u001b[0;34m()\u001b[0m\n\u001b[0;32m----> 1\u001b[0;31m \u001b[0mint\u001b[0m\u001b[0;34m(\u001b[0m\u001b[0;34m\"A\"\u001b[0m\u001b[0;34m)\u001b[0m\u001b[0;34m\u001b[0m\u001b[0m\n\u001b[0m",
            "\u001b[0;31mValueError\u001b[0m: invalid literal for int() with base 10: 'A'"
          ]
        }
      ]
    },
    {
      "metadata": {},
      "cell_type": "markdown",
      "source": "#### Converting to strings:"
    },
    {
      "metadata": {},
      "cell_type": "markdown",
      "source": "You can convert an int to a string:"
    },
    {
      "metadata": {
        "trusted": false
      },
      "cell_type": "code",
      "source": "str(1)",
      "execution_count": null,
      "outputs": []
    },
    {
      "metadata": {},
      "cell_type": "markdown",
      "source": " You can convert a  float to a string "
    },
    {
      "metadata": {
        "trusted": false
      },
      "cell_type": "code",
      "source": "str(1.2)",
      "execution_count": null,
      "outputs": []
    },
    {
      "metadata": {},
      "cell_type": "markdown",
      "source": "### Boolean "
    },
    {
      "metadata": {},
      "cell_type": "markdown",
      "source": "Boolean is another important  type in Python; a Boolean can take on two values. The first value is true, just remember we use an uppercase T:"
    },
    {
      "metadata": {
        "trusted": false
      },
      "cell_type": "code",
      "source": "True",
      "execution_count": null,
      "outputs": []
    },
    {
      "metadata": {},
      "cell_type": "markdown",
      "source": " Boolean values can also be false, with  an uppercase F:"
    },
    {
      "metadata": {
        "trusted": false
      },
      "cell_type": "code",
      "source": "False",
      "execution_count": null,
      "outputs": []
    },
    {
      "metadata": {},
      "cell_type": "markdown",
      "source": "Using the type command on a Boolean value we  obtain the term bool, this is short for Boolean "
    },
    {
      "metadata": {
        "trusted": true
      },
      "cell_type": "code",
      "source": "type(True)",
      "execution_count": 16,
      "outputs": [
        {
          "output_type": "execute_result",
          "execution_count": 16,
          "data": {
            "text/plain": "bool"
          },
          "metadata": {}
        }
      ]
    },
    {
      "metadata": {
        "trusted": true
      },
      "cell_type": "code",
      "source": "type(False)",
      "execution_count": 17,
      "outputs": [
        {
          "output_type": "execute_result",
          "execution_count": 17,
          "data": {
            "text/plain": "bool"
          },
          "metadata": {}
        }
      ]
    },
    {
      "metadata": {},
      "cell_type": "markdown",
      "source": "If we cast a Boolean true to an integer or float we will get a 1, if we cast a Boolean false to an integer or float. If we get a zero   if you cast a 1 to a boolean, you get a true similarly, if you cast a 0 to a Boolean you get a false. "
    },
    {
      "metadata": {
        "trusted": false
      },
      "cell_type": "code",
      "source": "int(True)",
      "execution_count": null,
      "outputs": []
    },
    {
      "metadata": {
        "trusted": false
      },
      "cell_type": "code",
      "source": "bool(1)",
      "execution_count": null,
      "outputs": []
    },
    {
      "metadata": {
        "trusted": false
      },
      "cell_type": "code",
      "source": "bool(0)",
      "execution_count": null,
      "outputs": []
    },
    {
      "metadata": {
        "trusted": false
      },
      "cell_type": "code",
      "source": "float(True)",
      "execution_count": null,
      "outputs": []
    },
    {
      "metadata": {},
      "cell_type": "markdown",
      "source": "### Quiz on types  "
    },
    {
      "metadata": {},
      "cell_type": "markdown",
      "source": "#### What is the type of the result of: `6 / 2`"
    },
    {
      "metadata": {
        "trusted": true
      },
      "cell_type": "code",
      "source": "6/2",
      "execution_count": 21,
      "outputs": [
        {
          "output_type": "execute_result",
          "execution_count": 21,
          "data": {
            "text/plain": "3.0"
          },
          "metadata": {}
        }
      ]
    },
    {
      "metadata": {},
      "cell_type": "markdown",
      "source": "Double-click __here__ for the solution.\n\n<!-- Your answer is below:\nthe type if float \ntype(6/2)\n-->"
    },
    {
      "metadata": {},
      "cell_type": "markdown",
      "source": "#### What is the type of the result of: `6 // 2`? (Note the double slash //)"
    },
    {
      "metadata": {
        "trusted": true
      },
      "cell_type": "code",
      "source": "type(6//2)",
      "execution_count": 22,
      "outputs": [
        {
          "output_type": "execute_result",
          "execution_count": 22,
          "data": {
            "text/plain": "int"
          },
          "metadata": {}
        }
      ]
    },
    {
      "metadata": {},
      "cell_type": "markdown",
      "source": "Double-click __here__ for the solution.\n\n<!-- Your answer is below:\nint:\ndouble slashes stand for integer division \n\n\n-->"
    },
    {
      "metadata": {},
      "cell_type": "markdown",
      "source": "<a id=\"ref2\"></a>\n<h2 align=center> Expression and Variables </h2>\n\n"
    },
    {
      "metadata": {},
      "cell_type": "markdown",
      "source": "### Expressions "
    },
    {
      "metadata": {},
      "cell_type": "markdown",
      "source": "Expressions are operations that Python performs. For example, basic arithmetic operations like adding multiple numbers."
    },
    {
      "metadata": {
        "trusted": true
      },
      "cell_type": "code",
      "source": "43 + 60 + 16 + 41",
      "execution_count": 23,
      "outputs": [
        {
          "output_type": "execute_result",
          "execution_count": 23,
          "data": {
            "text/plain": "160"
          },
          "metadata": {}
        }
      ]
    },
    {
      "metadata": {},
      "cell_type": "markdown",
      "source": " We can perform operations such as subtraction using the subtraction sign. In this case the result is a negative number."
    },
    {
      "metadata": {
        "trusted": true
      },
      "cell_type": "code",
      "source": "50 - 60",
      "execution_count": 24,
      "outputs": [
        {
          "output_type": "execute_result",
          "execution_count": 24,
          "data": {
            "text/plain": "-10"
          },
          "metadata": {}
        }
      ]
    },
    {
      "metadata": {},
      "cell_type": "markdown",
      "source": "We can use multiplication using an asterisk:"
    },
    {
      "metadata": {
        "trusted": true
      },
      "cell_type": "code",
      "source": "5 * 5",
      "execution_count": 25,
      "outputs": [
        {
          "output_type": "execute_result",
          "execution_count": 25,
          "data": {
            "text/plain": "25"
          },
          "metadata": {}
        }
      ]
    },
    {
      "metadata": {},
      "cell_type": "markdown",
      "source": "We can also perform division with the forward slash"
    },
    {
      "metadata": {
        "trusted": true
      },
      "cell_type": "code",
      "source": "25 / 5",
      "execution_count": 26,
      "outputs": [
        {
          "output_type": "execute_result",
          "execution_count": 26,
          "data": {
            "text/plain": "5.0"
          },
          "metadata": {}
        }
      ]
    },
    {
      "metadata": {
        "trusted": true
      },
      "cell_type": "code",
      "source": "25 / 6",
      "execution_count": 27,
      "outputs": [
        {
          "output_type": "execute_result",
          "execution_count": 27,
          "data": {
            "text/plain": "4.166666666666667"
          },
          "metadata": {}
        }
      ]
    },
    {
      "metadata": {},
      "cell_type": "markdown",
      "source": "We can use the double slash for integer division, where the result is rounded "
    },
    {
      "metadata": {
        "trusted": true
      },
      "cell_type": "code",
      "source": "25//5",
      "execution_count": 28,
      "outputs": [
        {
          "output_type": "execute_result",
          "execution_count": 28,
          "data": {
            "text/plain": "5"
          },
          "metadata": {}
        }
      ]
    },
    {
      "metadata": {
        "trusted": true
      },
      "cell_type": "code",
      "source": "25//6",
      "execution_count": 29,
      "outputs": [
        {
          "output_type": "execute_result",
          "execution_count": 29,
          "data": {
            "text/plain": "4"
          },
          "metadata": {}
        }
      ]
    },
    {
      "metadata": {},
      "cell_type": "markdown",
      "source": "**What is 160 min in hours?**"
    },
    {
      "metadata": {
        "trusted": true
      },
      "cell_type": "code",
      "source": "160/60",
      "execution_count": 30,
      "outputs": [
        {
          "output_type": "execute_result",
          "execution_count": 30,
          "data": {
            "text/plain": "2.6666666666666665"
          },
          "metadata": {}
        }
      ]
    },
    {
      "metadata": {},
      "cell_type": "markdown",
      "source": "Double-click __here__ for the solution.\n\n<!-- Your answer is below:\n160.0 / 60.0\n```\n-->"
    },
    {
      "metadata": {},
      "cell_type": "markdown",
      "source": " Python follows mathematical conventions when performing mathematical expressions. The following operations are in different order. In both cases Python performs multiplication, then addition to obtain the final result. "
    },
    {
      "metadata": {
        "trusted": true
      },
      "cell_type": "code",
      "source": " 2 * 60 + 30",
      "execution_count": 31,
      "outputs": [
        {
          "output_type": "execute_result",
          "execution_count": 31,
          "data": {
            "text/plain": "150"
          },
          "metadata": {}
        }
      ]
    },
    {
      "metadata": {},
      "cell_type": "markdown",
      "source": " The expressions in the parentheses are performed first. We then multiply the result by 60, the result is 1920."
    },
    {
      "metadata": {
        "trusted": true
      },
      "cell_type": "code",
      "source": "(30 + 2) * 60",
      "execution_count": 32,
      "outputs": [
        {
          "output_type": "execute_result",
          "execution_count": 32,
          "data": {
            "text/plain": "1920"
          },
          "metadata": {}
        }
      ]
    },
    {
      "metadata": {},
      "cell_type": "markdown",
      "source": "<div class=\"alert alert-success alertsuccess\" style=\"margin-top: 20px\">\n<h4> [Tip] Summary  </h4>\n<p></p>\nYou can do a variety of mathematical operations in Python including:  \n<li> addition: **2 + 2** </li>\n<li> subtraction: **5 - 2** </li>\n<li> multiplication: **3 \\* 2** </li>\n<li> division: **4 / 2** </li>\n<li> exponentiation: **4 \\*\\* 2** </li>\n</div>"
    },
    {
      "metadata": {},
      "cell_type": "markdown",
      "source": "### Variables"
    },
    {
      "metadata": {},
      "cell_type": "markdown",
      "source": "We can also **store** our output in **variables**, so we can use them later on. For example:"
    },
    {
      "metadata": {
        "trusted": true
      },
      "cell_type": "code",
      "source": "x = 43 + 60 + 16 + 41",
      "execution_count": 33,
      "outputs": []
    },
    {
      "metadata": {},
      "cell_type": "markdown",
      "source": "To return the value of **`x`**, we can simply run the variable as a command:"
    },
    {
      "metadata": {
        "trusted": true
      },
      "cell_type": "code",
      "source": "x",
      "execution_count": 34,
      "outputs": [
        {
          "output_type": "execute_result",
          "execution_count": 34,
          "data": {
            "text/plain": "160"
          },
          "metadata": {}
        }
      ]
    },
    {
      "metadata": {},
      "cell_type": "markdown",
      "source": "We can also perform operations on **`x`** and save the result to a **new variable**:"
    },
    {
      "metadata": {
        "trusted": true
      },
      "cell_type": "code",
      "source": "y = x / 60\ny",
      "execution_count": 35,
      "outputs": [
        {
          "output_type": "execute_result",
          "execution_count": 35,
          "data": {
            "text/plain": "2.6666666666666665"
          },
          "metadata": {}
        }
      ]
    },
    {
      "metadata": {},
      "cell_type": "markdown",
      "source": "If we save something to an **existing variable**, it will **overwrite** the previous value:"
    },
    {
      "metadata": {
        "trusted": true
      },
      "cell_type": "code",
      "source": "x = x / 60\nx",
      "execution_count": 36,
      "outputs": [
        {
          "output_type": "execute_result",
          "execution_count": 36,
          "data": {
            "text/plain": "2.6666666666666665"
          },
          "metadata": {}
        }
      ]
    },
    {
      "metadata": {},
      "cell_type": "markdown",
      "source": "It's good practice to use **meaningful variable names**, so you don't have to keep track of what variable is what:"
    },
    {
      "metadata": {
        "trusted": true
      },
      "cell_type": "code",
      "source": "total_min = (43 + 42 )\ntotal_min",
      "execution_count": 37,
      "outputs": [
        {
          "output_type": "execute_result",
          "execution_count": 37,
          "data": {
            "text/plain": "85"
          },
          "metadata": {}
        }
      ]
    },
    {
      "metadata": {
        "trusted": true
      },
      "cell_type": "code",
      "source": "total_hr = total_min / 60  \ntotal_hr",
      "execution_count": 38,
      "outputs": [
        {
          "output_type": "execute_result",
          "execution_count": 38,
          "data": {
            "text/plain": "1.4166666666666667"
          },
          "metadata": {}
        }
      ]
    },
    {
      "metadata": {},
      "cell_type": "markdown",
      "source": "You can put this all into a single expression, but remember to use **round brackets** to add together the album lengths first, before dividing by 60."
    },
    {
      "metadata": {
        "trusted": true
      },
      "cell_type": "code",
      "source": "total_hr = (43 + 42 + 57) / 60  # get total hours in a single expression\ntotal_hr",
      "execution_count": 39,
      "outputs": [
        {
          "output_type": "execute_result",
          "execution_count": 39,
          "data": {
            "text/plain": "2.3666666666666667"
          },
          "metadata": {}
        }
      ]
    },
    {
      "metadata": {},
      "cell_type": "markdown",
      "source": "<hr></hr>\n<div class=\"alert alert-success alertsuccess\" style=\"margin-top: 0px\">\n<h4> [Tip] Variables in Python </h4>\n<p></p>\nAs you just learned, you can use **variables** to store values for repeated use. Here are some more **characteristics of variables in Python**:\n<li>variables store the output of a block of code </li>\n<li>variables are typically assigned using **=** (as in **x = 1**) </li>\n<p></p>\n</div>\n<hr></hr>"
    },
    {
      "metadata": {},
      "cell_type": "markdown",
      "source": " <a id=\"#ref1a\"></a>\n<h2 align=center> Quiz on Expression and Variables in Python</h2>"
    },
    {
      "metadata": {},
      "cell_type": "markdown",
      "source": "####  What is the value of x ? <p> x = 3 + 2 * 2</p>"
    },
    {
      "metadata": {
        "trusted": true
      },
      "cell_type": "code",
      "source": "#x = 7\nx=3+2*2\nx",
      "execution_count": 40,
      "outputs": [
        {
          "output_type": "execute_result",
          "execution_count": 40,
          "data": {
            "text/plain": "7"
          },
          "metadata": {}
        }
      ]
    },
    {
      "metadata": {},
      "cell_type": "markdown",
      "source": "Double-click __here__ for the solution.\n\n<!-- Your answer is below:\n7\n-->\n"
    },
    {
      "metadata": {},
      "cell_type": "markdown",
      "source": "####  What is the value of y ? <p> y = (3 + 2) * 2</p>"
    },
    {
      "metadata": {
        "collapsed": true,
        "trusted": false
      },
      "cell_type": "code",
      "source": "",
      "execution_count": null,
      "outputs": []
    },
    {
      "metadata": {},
      "cell_type": "markdown",
      "source": "Double-click __here__ for the solution.\n\n<!-- Your answer is below:\n10\n-->"
    },
    {
      "metadata": {},
      "cell_type": "markdown",
      "source": "#### What is the value of z ? <p> z = x + y</p>"
    },
    {
      "metadata": {},
      "cell_type": "markdown",
      "source": "Double-click __here__ for the solution.\n\n<!-- Your answer is below:\n\n17\n-->"
    },
    {
      "metadata": {},
      "cell_type": "markdown",
      "source": " <div class=\"alert alert-block alert-info\" style=\"margin-top: 20px\">\n <a href=\"http://cocl.us/NotebooksPython101bottom\"><img src = \"https://ibm.box.com/shared/static/irypdxea2q4th88zu1o1tsd06dya10go.png\" width = 750, align = \"center\"></a>"
    },
    {
      "metadata": {},
      "cell_type": "markdown",
      "source": "<hr>\nCopyright &copy; 2017 IBM Cognitive Class. This notebook and its source code are released under the terms of the [MIT License](https://cognitiveclass.ai/mit-license/)."
    },
    {
      "metadata": {},
      "cell_type": "markdown",
      "source": "### About the Authors:  \n\n\n [Joseph Santarcangelo](https://www.linkedin.com/in/joseph-s-50398b136/) is a Data Scientist at IBM, and holds a PhD in Electrical Engineering, his research focused on using machine learning, signal processing, and computer vision to determine how videos impact human cognition. Joseph has been working for IBM since he completed his PhD.\n\n\n"
    }
  ],
  "metadata": {
    "kernelspec": {
      "name": "python3",
      "display_name": "Python 3",
      "language": "python"
    },
    "language_info": {
      "mimetype": "text/x-python",
      "nbconvert_exporter": "python",
      "name": "python",
      "pygments_lexer": "ipython3",
      "version": "3.5.4",
      "file_extension": ".py",
      "codemirror_mode": {
        "version": 3,
        "name": "ipython"
      }
    }
  },
  "nbformat": 4,
  "nbformat_minor": 2
}
