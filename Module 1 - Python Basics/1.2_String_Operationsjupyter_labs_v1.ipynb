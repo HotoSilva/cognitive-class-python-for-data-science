{
  "cells": [
    {
      "metadata": {},
      "cell_type": "markdown",
      "source": " <div class=\"alert alert-block alert-info\" style=\"margin-top: 20px\">\n <a href=\"http://cocl.us/NotebooksPython101\"><img src = \"https://ibm.box.com/shared/static/yfe6h4az47ktg2mm9h05wby2n7e8kei3.png\" width = 750, align = \"center\"></a>\n\n"
    },
    {
      "metadata": {},
      "cell_type": "markdown",
      "source": "<a href=\"https://www.bigdatauniversity.com\"><img src = \"https://ibm.box.com/shared/static/ugcqz6ohbvff804xp84y4kqnvvk3bq1g.png\" width = 300, align = \"center\"></a>\n\n<h1 align=center><font size = 5>String Operations </font></h1>"
    },
    {
      "metadata": {},
      "cell_type": "markdown",
      "source": "<br>"
    },
    {
      "metadata": {},
      "cell_type": "markdown",
      "source": "## Table of Contents\n\n\n<div class=\"alert alert-block alert-info\" style=\"margin-top: 20px\">\n<li><a href=\"#ref0\">Strings</a></li>\n<li><a href=\"#ref1\">Indexing</a></li>\n<li><a href=\"#ref2\">Escape Sequences </a></li>\n<li><a href=\"#ref3\">String Operations</a></li>\n<li><a href=\"#ref4\">Quizz </a></li>\n<br>\n<p></p>\nEstimated Time Needed: <strong>15 min</strong>\n</div>\n\n<hr>"
    },
    {
      "metadata": {},
      "cell_type": "markdown",
      "source": "<a id=\"ref0\"></a>\n<h2 align=center>Strings </h2>"
    },
    {
      "metadata": {},
      "cell_type": "markdown",
      "source": " A string is contained within 2 quotes:"
    },
    {
      "metadata": {
        "trusted": false
      },
      "cell_type": "code",
      "source": "\"Michael Jackson\"",
      "execution_count": null,
      "outputs": []
    },
    {
      "metadata": {},
      "cell_type": "markdown",
      "source": "You can also use single  quotes:"
    },
    {
      "metadata": {
        "trusted": false
      },
      "cell_type": "code",
      "source": "'Michael Jackson'",
      "execution_count": null,
      "outputs": []
    },
    {
      "metadata": {},
      "cell_type": "markdown",
      "source": "A string can be spaces and digits: "
    },
    {
      "metadata": {
        "trusted": false
      },
      "cell_type": "code",
      "source": "'1 2 3 4 5 6 '",
      "execution_count": null,
      "outputs": []
    },
    {
      "metadata": {},
      "cell_type": "markdown",
      "source": "A string can also be special characters : "
    },
    {
      "metadata": {
        "trusted": false
      },
      "cell_type": "code",
      "source": "'@#2_#]&*^%$'",
      "execution_count": null,
      "outputs": []
    },
    {
      "metadata": {},
      "cell_type": "markdown",
      "source": "We can print our string using the print statement:"
    },
    {
      "metadata": {
        "trusted": false
      },
      "cell_type": "code",
      "source": "print(\"hello!\")",
      "execution_count": null,
      "outputs": []
    },
    {
      "metadata": {},
      "cell_type": "markdown",
      "source": "We can bind or assign a string to another variable:\n"
    },
    {
      "metadata": {
        "trusted": true
      },
      "cell_type": "code",
      "source": "Name= \"Michael Jackson\"\nName",
      "execution_count": 1,
      "outputs": [
        {
          "output_type": "execute_result",
          "execution_count": 1,
          "data": {
            "text/plain": "'Michael Jackson'"
          },
          "metadata": {}
        }
      ]
    },
    {
      "metadata": {},
      "cell_type": "markdown",
      "source": " <a id=\"ref1\"></a>\n<h2 align=center>Indexing </h2>"
    },
    {
      "metadata": {},
      "cell_type": "markdown",
      "source": "It is helpful to think of a string as an ordered sequence. Each element in the sequence can be accessed using an index represented by the array of numbers:  "
    },
    {
      "metadata": {},
      "cell_type": "markdown",
      "source": " <img src = \"https://ibm.box.com/shared/static/esdu9w118rm1aldff7ff8c9b3kpjdazc.png\" width = 600, align = \"center\"></a>"
    },
    {
      "metadata": {},
      "cell_type": "markdown",
      "source": " The first index can be accessed as follows:"
    },
    {
      "metadata": {
        "trusted": true
      },
      "cell_type": "code",
      "source": "print(Name[0])",
      "execution_count": 4,
      "outputs": [
        {
          "output_type": "stream",
          "text": "M\n",
          "name": "stdout"
        }
      ]
    },
    {
      "metadata": {},
      "cell_type": "markdown",
      "source": " We can access index 6:"
    },
    {
      "metadata": {
        "trusted": false
      },
      "cell_type": "code",
      "source": "print(Name[6])",
      "execution_count": null,
      "outputs": []
    },
    {
      "metadata": {},
      "cell_type": "markdown",
      "source": "Moreover, we can access the 13th index:"
    },
    {
      "metadata": {
        "trusted": false
      },
      "cell_type": "code",
      "source": "print(Name[13])",
      "execution_count": null,
      "outputs": []
    },
    {
      "metadata": {},
      "cell_type": "markdown",
      "source": " We can also use negative indexing with strings:"
    },
    {
      "metadata": {},
      "cell_type": "markdown",
      "source": "<img src = \"https://ibm.box.com/shared/static/rmq8akevtt6uufox3xai7q2kqs4j9kan.png\" width = 600, align = \"center\"></a>"
    },
    {
      "metadata": {},
      "cell_type": "markdown",
      "source": " The last element is given by the  index -1: "
    },
    {
      "metadata": {
        "trusted": true
      },
      "cell_type": "code",
      "source": "print(Name[-1])",
      "execution_count": 5,
      "outputs": [
        {
          "output_type": "stream",
          "text": "n\n",
          "name": "stdout"
        }
      ]
    },
    {
      "metadata": {},
      "cell_type": "markdown",
      "source": " The first element can be obtained by  index -15:"
    },
    {
      "metadata": {
        "trusted": true
      },
      "cell_type": "code",
      "source": "print(Name[-15])",
      "execution_count": 11,
      "outputs": [
        {
          "output_type": "stream",
          "text": "M\n",
          "name": "stdout"
        }
      ]
    },
    {
      "metadata": {},
      "cell_type": "markdown",
      "source": " We can find the number of characters in a string by using 'len', short for length:"
    },
    {
      "metadata": {
        "trusted": true
      },
      "cell_type": "code",
      "source": "len(\"Michael Jackson\")",
      "execution_count": 12,
      "outputs": [
        {
          "output_type": "execute_result",
          "execution_count": 12,
          "data": {
            "text/plain": "15"
          },
          "metadata": {}
        }
      ]
    },
    {
      "metadata": {},
      "cell_type": "markdown",
      "source": "We can obtain multiple characters from a string using slicing, we can obtain the 0 to 4th and 8th to the 12th element:  "
    },
    {
      "metadata": {},
      "cell_type": "markdown",
      "source": " <img src=\"https://ibm.box.com/shared/static/bva43bmp00cxeunqh4w7blkgniycbign.png\" width=600,align=\"center\"></a>\n\n"
    },
    {
      "metadata": {
        "trusted": false
      },
      "cell_type": "code",
      "source": "Name[0:4]",
      "execution_count": null,
      "outputs": []
    },
    {
      "metadata": {
        "trusted": false
      },
      "cell_type": "code",
      "source": "Name[8:12]",
      "execution_count": null,
      "outputs": []
    },
    {
      "metadata": {},
      "cell_type": "markdown",
      "source": " We can also  input a stride value as follows, with the '2' indicating that we are selecting every second variable:"
    },
    {
      "metadata": {},
      "cell_type": "markdown",
      "source": " <img src=\"https://ibm.box.com/shared/static/f49xvym409rxclhtbr30xrs9kc4l5419.png\" width=600,align=\"center\"></a>\n\n"
    },
    {
      "metadata": {
        "trusted": false
      },
      "cell_type": "code",
      "source": "Name[::2]",
      "execution_count": null,
      "outputs": []
    },
    {
      "metadata": {},
      "cell_type": "markdown",
      "source": "We can also incorporate slicing  with the stride. In this case, we select the first five elements and then use the stride: "
    },
    {
      "metadata": {
        "trusted": true
      },
      "cell_type": "code",
      "source": "Name[0:5:2]",
      "execution_count": 2,
      "outputs": [
        {
          "output_type": "execute_result",
          "execution_count": 2,
          "data": {
            "text/plain": "'Mca'"
          },
          "metadata": {}
        }
      ]
    },
    {
      "metadata": {
        "collapsed": true,
        "trusted": false
      },
      "cell_type": "code",
      "source": "",
      "execution_count": null,
      "outputs": []
    },
    {
      "metadata": {},
      "cell_type": "markdown",
      "source": "We can concatenate or combine strings by using the addition symbols, and the result is a new string that is a combination of both:\n"
    },
    {
      "metadata": {
        "trusted": false
      },
      "cell_type": "code",
      "source": "Statement = Name + \"is the best\"\nStatement",
      "execution_count": null,
      "outputs": []
    },
    {
      "metadata": {},
      "cell_type": "markdown",
      "source": " To replicate values of a string we simply multiply the string by the number of times we would like to replicate it. In this case, the number is three. The result is a new string, and this new string consists of three copies of the original string:\n"
    },
    {
      "metadata": {
        "trusted": false
      },
      "cell_type": "code",
      "source": "3*\"Michael Jackson \"",
      "execution_count": null,
      "outputs": []
    },
    {
      "metadata": {},
      "cell_type": "markdown",
      "source": "You can create a new string by setting it to the original variable. Concatenated  with a new string, the result is a new string that changes from Michael Jackson to “Michael Jackson is the best\".\n"
    },
    {
      "metadata": {
        "trusted": false
      },
      "cell_type": "code",
      "source": "Name= \"Michael Jackson\"\nName= Name+\" is the best\"\nName\n",
      "execution_count": null,
      "outputs": []
    },
    {
      "metadata": {},
      "cell_type": "markdown",
      "source": " <a id=\"ref2\"></a>\n<h2 align=center>Escape Sequences  </h2>"
    },
    {
      "metadata": {},
      "cell_type": "markdown",
      "source": "Back slashes represent the beginning  of escape sequences. Escape sequences represent strings that may be difficult to input. For example, back slash \"n\" represents a new line. The output is given by a new line after the back slash \"n” is encountered:\n"
    },
    {
      "metadata": {
        "trusted": false
      },
      "cell_type": "code",
      "source": "print(\" Michael Jackson \\n is the best\" )",
      "execution_count": null,
      "outputs": []
    },
    {
      "metadata": {},
      "cell_type": "markdown",
      "source": "Similarly, back slash  \"t\" represents a tab: "
    },
    {
      "metadata": {
        "trusted": false
      },
      "cell_type": "code",
      "source": "print(\" Michael Jackson \\t is the best\" )",
      "execution_count": null,
      "outputs": []
    },
    {
      "metadata": {},
      "cell_type": "markdown",
      "source": " If you want to place a back slash in your string, use a double back slash:"
    },
    {
      "metadata": {
        "trusted": false
      },
      "cell_type": "code",
      "source": "print(\" Michael Jackson \\\\ is the best\" )",
      "execution_count": null,
      "outputs": []
    },
    {
      "metadata": {},
      "cell_type": "markdown",
      "source": " We can also place an \"r\" before the string to display the backslash:"
    },
    {
      "metadata": {
        "trusted": false
      },
      "cell_type": "code",
      "source": "print(r\" Michael Jackson \\ is the best\" )",
      "execution_count": null,
      "outputs": []
    },
    {
      "metadata": {},
      "cell_type": "markdown",
      "source": "<a id=\"ref3\"></a>\n<h2 align=center>String Operations</h2>"
    },
    {
      "metadata": {},
      "cell_type": "markdown",
      "source": "There are many string operation methods in Python that can be used to manipulate the data. We are going to use some basic string operations on the data. \n\n"
    },
    {
      "metadata": {},
      "cell_type": "markdown",
      "source": "Let's try with the method \"upper\"; this method converts upper case characters to lower case characters:"
    },
    {
      "metadata": {
        "trusted": true
      },
      "cell_type": "code",
      "source": "A=\"Thriller is the sixth studio album\"\nprint(\"before upper:\",A)\nB=A.upper()\nprint(\"After upper:\",B)",
      "execution_count": 13,
      "outputs": [
        {
          "output_type": "stream",
          "text": "before upper: Thriller is the sixth studio album\nAfter upper: THRILLER IS THE SIXTH STUDIO ALBUM\n",
          "name": "stdout"
        }
      ]
    },
    {
      "metadata": {},
      "cell_type": "markdown",
      "source": "<br>"
    },
    {
      "metadata": {},
      "cell_type": "markdown",
      "source": "The method replaces a segment of the string, i.e. a substring  with a new string. We input the part of the string we would like to change. The second argument is what we would like to exchange the segment with, and the result is a new string with the segment changed: \n"
    },
    {
      "metadata": {
        "trusted": false
      },
      "cell_type": "code",
      "source": "A=\"Michael Jackson is the best\"\nB=A.replace('Michael', 'Janet')\nB",
      "execution_count": null,
      "outputs": []
    },
    {
      "metadata": {},
      "cell_type": "markdown",
      "source": "The method \"find\" finds a sub-string. The argument is the substring you would like to find, and the output is the first index of the sequence. We can find the sub-string \"jack\" or \"el\".  \n"
    },
    {
      "metadata": {},
      "cell_type": "markdown",
      "source": " <img src=\"https://ibm.box.com/shared/static/mc414goh1l8jfo9gb19yibuylk8zk7dh.png\" width=600,align=\"center\"></a>"
    },
    {
      "metadata": {
        "trusted": true
      },
      "cell_type": "code",
      "source": "Name=\"Michael Jackson\"\nName.find('el')",
      "execution_count": 18,
      "outputs": [
        {
          "output_type": "execute_result",
          "execution_count": 18,
          "data": {
            "text/plain": "5"
          },
          "metadata": {}
        }
      ]
    },
    {
      "metadata": {
        "trusted": true
      },
      "cell_type": "code",
      "source": "Name.find('Jack')",
      "execution_count": 19,
      "outputs": [
        {
          "output_type": "execute_result",
          "execution_count": 19,
          "data": {
            "text/plain": "8"
          },
          "metadata": {}
        }
      ]
    },
    {
      "metadata": {},
      "cell_type": "markdown",
      "source": "If the  sub-string is not in the string then the output is a negative one. For example, the string 'Jasdfasdasdf' is not a substring:"
    },
    {
      "metadata": {
        "trusted": true
      },
      "cell_type": "code",
      "source": "Name.find('Jasdfasdasdf')",
      "execution_count": 20,
      "outputs": [
        {
          "output_type": "execute_result",
          "execution_count": 20,
          "data": {
            "text/plain": "-1"
          },
          "metadata": {}
        }
      ]
    },
    {
      "metadata": {},
      "cell_type": "markdown",
      "source": " <a id=\"ref4\"></a>\n<h2 align=center> Quiz on Strings </h2>"
    },
    {
      "metadata": {},
      "cell_type": "markdown",
      "source": "##### What is the value of the variable \"A\" after the following code is executed? \nA=\"1\""
    },
    {
      "metadata": {
        "trusted": true
      },
      "cell_type": "code",
      "source": "1",
      "execution_count": 21,
      "outputs": [
        {
          "output_type": "execute_result",
          "execution_count": 21,
          "data": {
            "text/plain": "1"
          },
          "metadata": {}
        }
      ]
    },
    {
      "metadata": {},
      "cell_type": "markdown",
      "source": "Double-click __here__ for the solution.\n\n<!-- Your answer is below:\n\"1\"\n-->\n"
    },
    {
      "metadata": {},
      "cell_type": "markdown",
      "source": "#### What is the value of the variable \"B\" after the following code is executed?\n`B=\"2\"`"
    },
    {
      "metadata": {
        "collapsed": true,
        "trusted": false
      },
      "cell_type": "code",
      "source": "2",
      "execution_count": null,
      "outputs": []
    },
    {
      "metadata": {},
      "cell_type": "markdown",
      "source": "</div>\n\nDouble-click __here__ for the solution.\n\n<!-- Your answer is below:\n\"2\"\n-->"
    },
    {
      "metadata": {},
      "cell_type": "markdown",
      "source": "#### What is the value of the variable \"C\" after the following code is executed?\n`C=A+B`"
    },
    {
      "metadata": {
        "trusted": false
      },
      "cell_type": "code",
      "source": "12",
      "execution_count": null,
      "outputs": []
    },
    {
      "metadata": {},
      "cell_type": "markdown",
      "source": "Double-click __here__ for the solution.\n\n<!-- Your answer is below:\n\"12\"\n-->\n"
    },
    {
      "metadata": {},
      "cell_type": "markdown",
      "source": "#### Consider the variable \"D\": use slicing to print out the first three elements: \n"
    },
    {
      "metadata": {
        "trusted": true
      },
      "cell_type": "code",
      "source": "D=\"ABCDEFG\"",
      "execution_count": 23,
      "outputs": []
    },
    {
      "metadata": {
        "trusted": true
      },
      "cell_type": "code",
      "source": "D[:3]",
      "execution_count": 25,
      "outputs": [
        {
          "output_type": "execute_result",
          "execution_count": 25,
          "data": {
            "text/plain": "'ABC'"
          },
          "metadata": {}
        }
      ]
    },
    {
      "metadata": {},
      "cell_type": "markdown",
      "source": "\nDouble-click __here__ for the solution.\n\n<!-- Your answer is below:\n\"print(D[:3]) or print(D[0:3])\"\n-->"
    },
    {
      "metadata": {},
      "cell_type": "markdown",
      "source": "#### Use a stride value of 2 to print out every second character  of the string \"E\": "
    },
    {
      "metadata": {
        "trusted": true
      },
      "cell_type": "code",
      "source": "E='clocrkr1e1c1t'",
      "execution_count": 26,
      "outputs": []
    },
    {
      "metadata": {
        "trusted": true
      },
      "cell_type": "code",
      "source": "E[::2]",
      "execution_count": 27,
      "outputs": [
        {
          "output_type": "execute_result",
          "execution_count": 27,
          "data": {
            "text/plain": "'correct'"
          },
          "metadata": {}
        }
      ]
    },
    {
      "metadata": {},
      "cell_type": "markdown",
      "source": "Double-click __here__ for the solution.\n</div>\n\n<!-- Your answer is below:\n\"print(E[::2])\"\n-->"
    },
    {
      "metadata": {},
      "cell_type": "markdown",
      "source": "#### Print out a backslash:"
    },
    {
      "metadata": {
        "trusted": true
      },
      "cell_type": "code",
      "source": "print(\"Printando um backslash: \\\\\")",
      "execution_count": 29,
      "outputs": [
        {
          "output_type": "stream",
          "text": "Printando um backslash: \\\n",
          "name": "stdout"
        }
      ]
    },
    {
      "metadata": {},
      "cell_type": "markdown",
      "source": "Double-click __here__ for the solution.\n<!-- Your answer is below:\nprint(\" \\\\\" )\nor\nprint(r\" \\ \" )\n-->\n"
    },
    {
      "metadata": {},
      "cell_type": "markdown",
      "source": "#### Convert the variable \"F\" to uppercase:"
    },
    {
      "metadata": {
        "trusted": true
      },
      "cell_type": "code",
      "source": "F=\"You are wrong\"",
      "execution_count": 30,
      "outputs": []
    },
    {
      "metadata": {
        "trusted": true
      },
      "cell_type": "code",
      "source": "F.upper()",
      "execution_count": 31,
      "outputs": [
        {
          "output_type": "execute_result",
          "execution_count": 31,
          "data": {
            "text/plain": "'YOU ARE WRONG'"
          },
          "metadata": {}
        }
      ]
    },
    {
      "metadata": {},
      "cell_type": "markdown",
      "source": "\n</div>\nDouble-click __here__ for the solution.\n<!-- Your answer is below:\nF.upper()\n-->"
    },
    {
      "metadata": {},
      "cell_type": "markdown",
      "source": "#### Consider the variable \"G\", and find the first index of the sub-string 'snow':"
    },
    {
      "metadata": {
        "trusted": true
      },
      "cell_type": "code",
      "source": "G=\"Mary had a little lamb Little lamb, little lamb Mary had a little lamb \\\nIts fleece was white as snow And everywhere that Mary went Mary went, Mary went \\\nEverywhere that Mary went The lamb was sure to go\"",
      "execution_count": 32,
      "outputs": []
    },
    {
      "metadata": {
        "trusted": true
      },
      "cell_type": "code",
      "source": "G.find(\"snow\")",
      "execution_count": 33,
      "outputs": [
        {
          "output_type": "execute_result",
          "execution_count": 33,
          "data": {
            "text/plain": "95"
          },
          "metadata": {}
        }
      ]
    },
    {
      "metadata": {},
      "cell_type": "markdown",
      "source": "\nDouble-click __here__ for the solution.\n<!-- Your answer is below:\nG.find('snow')\n-->\n\n\n"
    },
    {
      "metadata": {},
      "cell_type": "markdown",
      "source": "#### In the variable \"G\", replace the sub-string Mary with \"Bob\":"
    },
    {
      "metadata": {
        "trusted": true
      },
      "cell_type": "code",
      "source": "G.replace(\"Mary\",\"Bob\")",
      "execution_count": 35,
      "outputs": [
        {
          "output_type": "execute_result",
          "execution_count": 35,
          "data": {
            "text/plain": "'Bob had a little lamb Little lamb, little lamb Bob had a little lamb Its fleece was white as snow And everywhere that Bob went Bob went, Bob went Everywhere that Bob went The lamb was sure to go'"
          },
          "metadata": {}
        }
      ]
    },
    {
      "metadata": {},
      "cell_type": "markdown",
      "source": "Double-click __here__ for the solution.\n<!-- Your answer is below:\nG.replace(\"Mary\",\"Bob\")-->"
    },
    {
      "metadata": {},
      "cell_type": "markdown",
      "source": " <div class=\"alert alert-block alert-info\" style=\"margin-top: 20px\">\n <a href=\"http://cocl.us/NotebooksPython101bottom\"><img src = \"https://ibm.box.com/shared/static/irypdxea2q4th88zu1o1tsd06dya10go.png\" width = 750, align = \"center\"></a>\n"
    },
    {
      "metadata": {},
      "cell_type": "markdown",
      "source": "# About the Authors:  \n\n [Joseph Santarcangelo]( https://www.linkedin.com/in/joseph-s-50398b136/) has a PhD in Electrical Engineering, his research focused on using machine learning, signal processing, and computer vision to determine how videos impact human cognition. Joseph has been working for IBM since he completed his PhD.\n"
    },
    {
      "metadata": {
        "collapsed": true,
        "trusted": false
      },
      "cell_type": "code",
      "source": "",
      "execution_count": null,
      "outputs": []
    }
  ],
  "metadata": {
    "kernelspec": {
      "name": "python3",
      "display_name": "Python 3",
      "language": "python"
    },
    "language_info": {
      "mimetype": "text/x-python",
      "nbconvert_exporter": "python",
      "name": "python",
      "pygments_lexer": "ipython3",
      "version": "3.5.4",
      "file_extension": ".py",
      "codemirror_mode": {
        "version": 3,
        "name": "ipython"
      }
    }
  },
  "nbformat": 4,
  "nbformat_minor": 2
}